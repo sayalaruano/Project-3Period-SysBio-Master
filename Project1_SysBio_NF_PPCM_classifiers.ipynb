{
  "cells": [
    {
      "cell_type": "markdown",
      "metadata": {
        "id": "QPP0blfZXted"
      },
      "source": [
        "<a href=\"https://colab.research.google.com/github/sayalaruano/blob/main/Project1_SysBio_NF_PPCM_classifiers.ipynb\" target=\"_parent\"><img src=\"https://colab.research.google.com/assets/colab-badge.svg\" alt=\"Open In Colab\"/></a>"
      ]
    },
    {
      "cell_type": "markdown",
      "metadata": {
        "id": "ihD1ikv4A_U-"
      },
      "source": [
        "# **Predicting cardiomyopathies using RNAseq data with machine learning models**\n",
        "\n",
        "This notebook is part of a group project for the Systems Biology masters at Maastricht University.\n",
        "\n",
        "You can find more details about my capstone project in this [GitHub repository](https://github.com/sayalaruano/Project3Period-SysBioMaster).\n",
        "\n",
        "## Dataset description\n",
        "We will be using an [RNA-sequencing dataset from the MAGNet consortium](https://github.com/mpmorley/MAGNet). To generate this dataset, leftventricular free-wall tissue was harvested at the time of cardiac surgery fromsubjects with heart failure undergoing transplantation and from unused donor hearts with apparently normal function.  This dataset is a spectacular resource of left ventricular transcriptomes of **non-failing healthy donors**, \n",
        "**Peripartum cardiomyopathy (PPCM)**, **Hypertrophic cardiomyopathy (HCM)** and **Dilated cardiomyopathy (DCM)** patients. Next to the RNA-sequencing data (in log2-transformed CPM values), extensive participant information is available (age, sex, ethnicity, disease state, and so on).\n",
        "\n",
        "**Note:** `mkdir`, `wget`, `unzip`, `make`, `cd`, `grep`, and `cat` are Unix based OS commands, so if you are in Windows, maybe these terminal tools won't work."
      ]
    },
    {
      "cell_type": "markdown",
      "metadata": {
        "id": "2E2XwwoUWbtw"
      },
      "source": [
        "## **Installation of libraries**"
      ]
    },
    {
      "cell_type": "markdown",
      "metadata": {
        "id": "xLMn-W76a5gD"
      },
      "source": [
        "### **[LazyPredict](https://github.com/shankarpandala/lazypredict)**\n",
        "Library to run many sklearn's binary classifiers with default parameters"
      ]
    },
    {
      "cell_type": "code",
      "execution_count": 1,
      "metadata": {
        "id": "DRjGMT2FVNZm",
        "colab": {
          "base_uri": "https://localhost:8080/"
        },
        "outputId": "8218ac7f-7757-4830-907f-8c5fc2c17302"
      },
      "outputs": [
        {
          "output_type": "stream",
          "name": "stdout",
          "text": [
            "Looking in indexes: https://pypi.org/simple, https://us-python.pkg.dev/colab-wheels/public/simple/\n",
            "Collecting lazypredict\n",
            "  Downloading lazypredict-0.2.12-py2.py3-none-any.whl (12 kB)\n",
            "Requirement already satisfied: joblib in /usr/local/lib/python3.8/dist-packages (from lazypredict) (1.2.0)\n",
            "Requirement already satisfied: pandas in /usr/local/lib/python3.8/dist-packages (from lazypredict) (1.3.5)\n",
            "Requirement already satisfied: scikit-learn in /usr/local/lib/python3.8/dist-packages (from lazypredict) (1.0.2)\n",
            "Requirement already satisfied: tqdm in /usr/local/lib/python3.8/dist-packages (from lazypredict) (4.64.1)\n",
            "Requirement already satisfied: xgboost in /usr/local/lib/python3.8/dist-packages (from lazypredict) (0.90)\n",
            "Requirement already satisfied: lightgbm in /usr/local/lib/python3.8/dist-packages (from lazypredict) (2.2.3)\n",
            "Requirement already satisfied: click in /usr/local/lib/python3.8/dist-packages (from lazypredict) (7.1.2)\n",
            "Requirement already satisfied: numpy in /usr/local/lib/python3.8/dist-packages (from lightgbm->lazypredict) (1.21.6)\n",
            "Requirement already satisfied: scipy in /usr/local/lib/python3.8/dist-packages (from lightgbm->lazypredict) (1.7.3)\n",
            "Requirement already satisfied: python-dateutil>=2.7.3 in /usr/local/lib/python3.8/dist-packages (from pandas->lazypredict) (2.8.2)\n",
            "Requirement already satisfied: pytz>=2017.3 in /usr/local/lib/python3.8/dist-packages (from pandas->lazypredict) (2022.7)\n",
            "Requirement already satisfied: threadpoolctl>=2.0.0 in /usr/local/lib/python3.8/dist-packages (from scikit-learn->lazypredict) (3.1.0)\n",
            "Requirement already satisfied: six>=1.5 in /usr/local/lib/python3.8/dist-packages (from python-dateutil>=2.7.3->pandas->lazypredict) (1.15.0)\n",
            "Installing collected packages: lazypredict\n",
            "Successfully installed lazypredict-0.2.12\n"
          ]
        }
      ],
      "source": [
        "!pip install lazypredict"
      ]
    },
    {
      "cell_type": "markdown",
      "metadata": {
        "id": "mZYPeKm97sFk"
      },
      "source": [
        "## **Imports, data obtention, and pre-processing**"
      ]
    },
    {
      "cell_type": "code",
      "execution_count": 14,
      "metadata": {
        "id": "9Ql8qTq3dLSg"
      },
      "outputs": [],
      "source": [
        "# Download and unzip \n",
        "from urllib.request import urlopen\n",
        "from io import BytesIO\n",
        "from zipfile import ZipFile\n",
        "\n",
        "# Data manipulation and EDA\n",
        "import pandas as pd\n",
        "import numpy as np\n",
        "\n",
        "# Plots\n",
        "import matplotlib.pyplot as plt\n",
        "import seaborn as sns\n",
        "\n",
        "# Machine learning classifers\n",
        "import lazypredict\n",
        "import pickle\n",
        "from lazypredict.Supervised import LazyClassifier\n",
        "from sklearn.model_selection import train_test_split\n",
        "from lightgbm import LGBMClassifier\n",
        "from sklearn.preprocessing import StandardScaler\n",
        "from sklearn.pipeline import make_pipeline\n",
        "from sklearn.model_selection import GridSearchCV\n",
        "from sklearn.tree import DecisionTreeClassifier\n",
        "from sklearn.ensemble import AdaBoostClassifier\n",
        "from sklearn.metrics import roc_auc_score, accuracy_score, precision_score, recall_score, f1_score, matthews_corrcoef\n",
        "from sklearn.metrics import make_scorer"
      ]
    },
    {
      "cell_type": "code",
      "execution_count": 3,
      "metadata": {
        "id": "FA6Vue0LD0_t"
      },
      "outputs": [],
      "source": [
        "# Download and unzip data\n",
        "def download_and_unzip(url, extract_to='.'):\n",
        "    http_response = urlopen(url)\n",
        "    zipfile = ZipFile(BytesIO(http_response.read()))\n",
        "    zipfile.extractall(path=extract_to)\n",
        "\n",
        "url = \"https://surfdrive.surf.nl/files/index.php/s/mZrXMDlQ1Z1LvTn/download\"\n",
        "\n",
        "download_and_unzip(url, extract_to='.')"
      ]
    },
    {
      "cell_type": "markdown",
      "metadata": {
        "id": "BQHwqXaV5eTe"
      },
      "source": [
        "## **Feature matrices preparation**\n"
      ]
    },
    {
      "cell_type": "markdown",
      "metadata": {
        "id": "8HSFMjPtd-G-"
      },
      "source": [
        "### **Load molecular descriptors (features)**"
      ]
    },
    {
      "cell_type": "code",
      "execution_count": 4,
      "metadata": {
        "id": "-DkYKw0yLmjL"
      },
      "outputs": [],
      "source": [
        "# Load gene expression and sampleinfo data \n",
        "gxData_cpm = pd.read_table(\"MAGNET_GeneExpressionData_CPM_19112020.txt\", index_col=0)\n",
        "\n",
        "sampleInfo = pd.read_csv(\"MAGNET_SampleData_18112022.csv\")"
      ]
    },
    {
      "cell_type": "code",
      "source": [
        "# Transpose the gx dataframe\n",
        "gxData_cpm = gxData_cpm.transpose()\n",
        "\n",
        "# Create a new column with index values \n",
        "gxData_cpm = gxData_cpm.rename_axis('sample_name').reset_index()\n",
        "\n",
        "# Rename the index name\n",
        "gxData_cpm = gxData_cpm.rename_axis(None, axis=1)"
      ],
      "metadata": {
        "id": "fddqwDY69xTj"
      },
      "execution_count": 5,
      "outputs": []
    },
    {
      "cell_type": "code",
      "source": [
        "# Get a df with the etiology and sample name columns \n",
        "columns = [\"etiology\", \"sample_name\"]\n",
        "\n",
        "etiology = sampleInfo[columns]"
      ],
      "metadata": {
        "id": "Wjr7PTapF9IE"
      },
      "execution_count": 6,
      "outputs": []
    },
    {
      "cell_type": "code",
      "source": [
        "# Join the etiology and gx dataframes\n",
        "gxData_cpm_labeled = pd.merge(gxData_cpm, etiology, on='sample_name', how='inner')"
      ],
      "metadata": {
        "id": "psfJU_KUF9SI"
      },
      "execution_count": 7,
      "outputs": []
    },
    {
      "cell_type": "code",
      "source": [
        "# Prin the number of samples per etiology\n",
        "gxData_cpm_labeled[\"etiology\"].value_counts()"
      ],
      "metadata": {
        "colab": {
          "base_uri": "https://localhost:8080/"
        },
        "id": "fTo2PxW9ID8U",
        "outputId": "14effa17-ade1-418a-86d4-17d71a054c9e"
      },
      "execution_count": 8,
      "outputs": [
        {
          "output_type": "execute_result",
          "data": {
            "text/plain": [
              "NF      166\n",
              "DCM     166\n",
              "HCM      28\n",
              "PPCM      6\n",
              "Name: etiology, dtype: int64"
            ]
          },
          "metadata": {},
          "execution_count": 8
        }
      ]
    },
    {
      "cell_type": "code",
      "source": [
        "# Select the NF and DCM patients\n",
        "gxData_cpm_lab_NFPPCM = gxData_cpm_labeled[(gxData_cpm_labeled[\"etiology\"] == \"NF\") | \n",
        "                                          (gxData_cpm_labeled[\"etiology\"] == \"PPCM\")]"
      ],
      "metadata": {
        "id": "_iDBzqjoID-p"
      },
      "execution_count": 9,
      "outputs": []
    },
    {
      "cell_type": "code",
      "source": [
        "# Create the y label dataset\n",
        "y = gxData_cpm_lab_NFPPCM['etiology'].copy()\n",
        "\n",
        "# Encoding the target class label\n",
        "y = y.map({\"PPCM\": 1, \"NF\": 0}).to_numpy()"
      ],
      "metadata": {
        "id": "UkHK2_iPKSux"
      },
      "execution_count": 10,
      "outputs": []
    },
    {
      "cell_type": "code",
      "source": [
        "# Create the feature matrix by deleting the y column and the sample name\n",
        "final_df_NFPPCM = gxData_cpm_lab_NFPPCM.drop(['etiology', 'sample_name'], axis=1)\n",
        "X = final_df_NFPPCM.to_numpy()"
      ],
      "metadata": {
        "id": "R51pwPQLLbtN"
      },
      "execution_count": 11,
      "outputs": []
    },
    {
      "cell_type": "markdown",
      "metadata": {
        "id": "H9MRC7xR8eJi"
      },
      "source": [
        "## **Exploratory Data Analysis**"
      ]
    },
    {
      "cell_type": "markdown",
      "metadata": {
        "id": "r6rVorK_rVnt"
      },
      "source": [
        "### **Target variable**"
      ]
    },
    {
      "cell_type": "code",
      "execution_count": 12,
      "metadata": {
        "colab": {
          "base_uri": "https://localhost:8080/",
          "height": 295
        },
        "id": "bByC_71PtrBN",
        "outputId": "20a07e06-3dd5-425c-8c49-d82b33aca03e"
      },
      "outputs": [
        {
          "output_type": "display_data",
          "data": {
            "text/plain": [
              "<Figure size 432x288 with 1 Axes>"
            ],
            "image/png": "[encoded data removed]"
          },
          "metadata": {
            "needs_background": "light"
          }
        }
      ],
      "source": [
        "# Bar plot of active and inactive AMPs\n",
        "\n",
        "# Data\n",
        "n_healthy = (gxData_cpm_lab_NFPPCM[\"etiology\"] == \"NF\").sum()\n",
        "n_disease = (gxData_cpm_lab_NFPPCM[\"etiology\"] == \"PPCM\").sum()\n",
        "\n",
        "x_label = ['Healthy', 'PPCM']\n",
        "y_label = [n_healthy, n_disease]\n",
        "\n",
        "# Setup plot\n",
        "fig, ax = plt.subplots()\n",
        "\n",
        "# Make bar plot\n",
        "p = ax.bar(x_label, y_label, color = ['#F8766D', '#00BFC4'], ec = 'black')\n",
        "\n",
        "ax.set_title('Disease status of samples', fontsize=14, fontweight='bold', pad=15)\n",
        "\n",
        "ax.set_ylim(0,200)\n",
        "plt.xticks(fontsize=14)\n",
        "plt.yticks(fontsize=14)\n",
        "\n",
        "plt.show()"
      ]
    },
    {
      "cell_type": "markdown",
      "metadata": {
        "id": "RewWucDQbTo3"
      },
      "source": [
        "## **Machine learning models**\n",
        "First, we tested more than 30 ML binary classifiers using the [LazyPredict](https://github.com/shankarpandala/lazypredict) Python library. We chose the best model evaluating some performance metrics (e.g., accuracy, ROC AUC, F1 score, and Matthews Correlation Coefficient) on the test dataset. "
      ]
    },
    {
      "cell_type": "code",
      "execution_count": 13,
      "metadata": {
        "colab": {
          "base_uri": "https://localhost:8080/"
        },
        "id": "01B14Lz2bdMn",
        "outputId": "c87d7d9f-740f-47dc-dcda-059b67931b8e"
      },
      "outputs": [
        {
          "output_type": "stream",
          "name": "stderr",
          "text": [
            "100%|██████████| 29/29 [01:10<00:00,  2.42s/it]\n"
          ]
        }
      ],
      "source": [
        "# Run the ML classifiers with LazyPredict     \n",
        "# Data splitting\n",
        "X_train, X_test, y_train, y_test = train_test_split(X, y, test_size=0.2, \n",
        "                                                    random_state =42, \n",
        "                                                    stratify=y)\n",
        "\n",
        "# Define and build the Lazyclassifier\n",
        "clf = LazyClassifier(verbose=0,ignore_warnings=True, custom_metric=matthews_corrcoef)\n",
        "\n",
        "models, predictions = clf.fit(X_train, X_test, y_train, y_test)"
      ]
    },
    {
      "cell_type": "code",
      "source": [
        "models"
      ],
      "metadata": {
        "colab": {
          "base_uri": "https://localhost:8080/",
          "height": 1000
        },
        "id": "Jtf5g08QR48h",
        "outputId": "f194471e-a9eb-4ed2-887b-fd9953ce549f"
      },
      "execution_count": null,
      "outputs": [
        {
          "output_type": "execute_result",
          "data": {
            "text/plain": [
              "                               Accuracy  Balanced Accuracy  ROC AUC  F1 Score  \\\n",
              "Model                                                                           \n",
              "LGBMClassifier                     1.00               1.00     1.00      1.00   \n",
              "LinearDiscriminantAnalysis         1.00               1.00     1.00      1.00   \n",
              "RidgeClassifierCV                  1.00               1.00     1.00      1.00   \n",
              "RidgeClassifier                    1.00               1.00     1.00      1.00   \n",
              "LogisticRegression                 1.00               1.00     1.00      1.00   \n",
              "AdaBoostClassifier                 0.97               0.99     0.99      0.98   \n",
              "BernoulliNB                        0.97               0.99     0.99      0.98   \n",
              "DecisionTreeClassifier             0.94               0.97     0.97      0.96   \n",
              "NearestCentroid                    0.91               0.96     0.96      0.94   \n",
              "SGDClassifier                      0.77               0.88     0.88      0.85   \n",
              "Perceptron                         0.77               0.88     0.88      0.85   \n",
              "PassiveAggressiveClassifier        0.71               0.85     0.85      0.81   \n",
              "LinearSVC                          0.71               0.85     0.85      0.81   \n",
              "BaggingClassifier                  0.97               0.50     0.50      0.96   \n",
              "DummyClassifier                    0.97               0.50     0.50      0.96   \n",
              "LabelSpreading                     0.97               0.50     0.50      0.96   \n",
              "ExtraTreesClassifier               0.97               0.50     0.50      0.96   \n",
              "LabelPropagation                   0.97               0.50     0.50      0.96   \n",
              "RandomForestClassifier             0.97               0.50     0.50      0.96   \n",
              "CalibratedClassifierCV             0.97               0.50     0.50      0.96   \n",
              "KNeighborsClassifier               0.97               0.50     0.50      0.96   \n",
              "GaussianNB                         0.97               0.50     0.50      0.96   \n",
              "SVC                                0.97               0.50     0.50      0.96   \n",
              "XGBClassifier                      0.97               0.50     0.50      0.96   \n",
              "ExtraTreeClassifier                0.94               0.49     0.49      0.94   \n",
              "QuadraticDiscriminantAnalysis      0.34               0.18     0.18      0.50   \n",
              "\n",
              "                               matthews_corrcoef  Time Taken  \n",
              "Model                                                         \n",
              "LGBMClassifier                              1.00       18.53  \n",
              "LinearDiscriminantAnalysis                  1.00        1.66  \n",
              "RidgeClassifierCV                           1.00        0.71  \n",
              "RidgeClassifier                             1.00        0.62  \n",
              "LogisticRegression                          1.00        1.92  \n",
              "AdaBoostClassifier                          0.70       17.68  \n",
              "BernoulliNB                                 0.70        0.64  \n",
              "DecisionTreeClassifier                      0.56        1.16  \n",
              "NearestCentroid                             0.48        0.60  \n",
              "SGDClassifier                               0.29        0.77  \n",
              "Perceptron                                  0.29        0.78  \n",
              "PassiveAggressiveClassifier                 0.25        1.89  \n",
              "LinearSVC                                   0.25        2.87  \n",
              "BaggingClassifier                           0.00        2.46  \n",
              "DummyClassifier                             0.00        0.50  \n",
              "LabelSpreading                              0.00        0.65  \n",
              "ExtraTreesClassifier                        0.00        0.73  \n",
              "LabelPropagation                            0.00        0.66  \n",
              "RandomForestClassifier                      0.00        0.96  \n",
              "CalibratedClassifierCV                      0.00        4.07  \n",
              "KNeighborsClassifier                        0.00        0.51  \n",
              "GaussianNB                                  0.00        0.55  \n",
              "SVC                                         0.00        1.08  \n",
              "XGBClassifier                               0.00       10.21  \n",
              "ExtraTreeClassifier                        -0.03        0.57  \n",
              "QuadraticDiscriminantAnalysis              -0.22        1.26  "
            ],
            "text/html": [
              "\n",
              "  <div id=\"df-b1943771-168a-4575-9118-ed1e9acc0a52\">\n",
              "    <div class=\"colab-df-container\">\n",
              "      <div>\n",
              "<style scoped>\n",
              "    .dataframe tbody tr th:only-of-type {\n",
              "        vertical-align: middle;\n",
              "    }\n",
              "\n",
              "    .dataframe tbody tr th {\n",
              "        vertical-align: top;\n",
              "    }\n",
              "\n",
              "    .dataframe thead th {\n",
              "        text-align: right;\n",
              "    }\n",
              "</style>\n",
              "<table border=\"1\" class=\"dataframe\">\n",
              "  <thead>\n",
              "    <tr style=\"text-align: right;\">\n",
              "      <th></th>\n",
              "      <th>Accuracy</th>\n",
              "      <th>Balanced Accuracy</th>\n",
              "      <th>ROC AUC</th>\n",
              "      <th>F1 Score</th>\n",
              "      <th>matthews_corrcoef</th>\n",
              "      <th>Time Taken</th>\n",
              "    </tr>\n",
              "    <tr>\n",
              "      <th>Model</th>\n",
              "      <th></th>\n",
              "      <th></th>\n",
              "      <th></th>\n",
              "      <th></th>\n",
              "      <th></th>\n",
              "      <th></th>\n",
              "    </tr>\n",
              "  </thead>\n",
              "  <tbody>\n",
              "    <tr>\n",
              "      <th>LGBMClassifier</th>\n",
              "      <td>1.00</td>\n",
              "      <td>1.00</td>\n",
              "      <td>1.00</td>\n",
              "      <td>1.00</td>\n",
              "      <td>1.00</td>\n",
              "      <td>18.53</td>\n",
              "    </tr>\n",
              "    <tr>\n",
              "      <th>LinearDiscriminantAnalysis</th>\n",
              "      <td>1.00</td>\n",
              "      <td>1.00</td>\n",
              "      <td>1.00</td>\n",
              "      <td>1.00</td>\n",
              "      <td>1.00</td>\n",
              "      <td>1.66</td>\n",
              "    </tr>\n",
              "    <tr>\n",
              "      <th>RidgeClassifierCV</th>\n",
              "      <td>1.00</td>\n",
              "      <td>1.00</td>\n",
              "      <td>1.00</td>\n",
              "      <td>1.00</td>\n",
              "      <td>1.00</td>\n",
              "      <td>0.71</td>\n",
              "    </tr>\n",
              "    <tr>\n",
              "      <th>RidgeClassifier</th>\n",
              "      <td>1.00</td>\n",
              "      <td>1.00</td>\n",
              "      <td>1.00</td>\n",
              "      <td>1.00</td>\n",
              "      <td>1.00</td>\n",
              "      <td>0.62</td>\n",
              "    </tr>\n",
              "    <tr>\n",
              "      <th>LogisticRegression</th>\n",
              "      <td>1.00</td>\n",
              "      <td>1.00</td>\n",
              "      <td>1.00</td>\n",
              "      <td>1.00</td>\n",
              "      <td>1.00</td>\n",
              "      <td>1.92</td>\n",
              "    </tr>\n",
              "    <tr>\n",
              "      <th>AdaBoostClassifier</th>\n",
              "      <td>0.97</td>\n",
              "      <td>0.99</td>\n",
              "      <td>0.99</td>\n",
              "      <td>0.98</td>\n",
              "      <td>0.70</td>\n",
              "      <td>17.68</td>\n",
              "    </tr>\n",
              "    <tr>\n",
              "      <th>BernoulliNB</th>\n",
              "      <td>0.97</td>\n",
              "      <td>0.99</td>\n",
              "      <td>0.99</td>\n",
              "      <td>0.98</td>\n",
              "      <td>0.70</td>\n",
              "      <td>0.64</td>\n",
              "    </tr>\n",
              "    <tr>\n",
              "      <th>DecisionTreeClassifier</th>\n",
              "      <td>0.94</td>\n",
              "      <td>0.97</td>\n",
              "      <td>0.97</td>\n",
              "      <td>0.96</td>\n",
              "      <td>0.56</td>\n",
              "      <td>1.16</td>\n",
              "    </tr>\n",
              "    <tr>\n",
              "      <th>NearestCentroid</th>\n",
              "      <td>0.91</td>\n",
              "      <td>0.96</td>\n",
              "      <td>0.96</td>\n",
              "      <td>0.94</td>\n",
              "      <td>0.48</td>\n",
              "      <td>0.60</td>\n",
              "    </tr>\n",
              "    <tr>\n",
              "      <th>SGDClassifier</th>\n",
              "      <td>0.77</td>\n",
              "      <td>0.88</td>\n",
              "      <td>0.88</td>\n",
              "      <td>0.85</td>\n",
              "      <td>0.29</td>\n",
              "      <td>0.77</td>\n",
              "    </tr>\n",
              "    <tr>\n",
              "      <th>Perceptron</th>\n",
              "      <td>0.77</td>\n",
              "      <td>0.88</td>\n",
              "      <td>0.88</td>\n",
              "      <td>0.85</td>\n",
              "      <td>0.29</td>\n",
              "      <td>0.78</td>\n",
              "    </tr>\n",
              "    <tr>\n",
              "      <th>PassiveAggressiveClassifier</th>\n",
              "      <td>0.71</td>\n",
              "      <td>0.85</td>\n",
              "      <td>0.85</td>\n",
              "      <td>0.81</td>\n",
              "      <td>0.25</td>\n",
              "      <td>1.89</td>\n",
              "    </tr>\n",
              "    <tr>\n",
              "      <th>LinearSVC</th>\n",
              "      <td>0.71</td>\n",
              "      <td>0.85</td>\n",
              "      <td>0.85</td>\n",
              "      <td>0.81</td>\n",
              "      <td>0.25</td>\n",
              "      <td>2.87</td>\n",
              "    </tr>\n",
              "    <tr>\n",
              "      <th>BaggingClassifier</th>\n",
              "      <td>0.97</td>\n",
              "      <td>0.50</td>\n",
              "      <td>0.50</td>\n",
              "      <td>0.96</td>\n",
              "      <td>0.00</td>\n",
              "      <td>2.46</td>\n",
              "    </tr>\n",
              "    <tr>\n",
              "      <th>DummyClassifier</th>\n",
              "      <td>0.97</td>\n",
              "      <td>0.50</td>\n",
              "      <td>0.50</td>\n",
              "      <td>0.96</td>\n",
              "      <td>0.00</td>\n",
              "      <td>0.50</td>\n",
              "    </tr>\n",
              "    <tr>\n",
              "      <th>LabelSpreading</th>\n",
              "      <td>0.97</td>\n",
              "      <td>0.50</td>\n",
              "      <td>0.50</td>\n",
              "      <td>0.96</td>\n",
              "      <td>0.00</td>\n",
              "      <td>0.65</td>\n",
              "    </tr>\n",
              "    <tr>\n",
              "      <th>ExtraTreesClassifier</th>\n",
              "      <td>0.97</td>\n",
              "      <td>0.50</td>\n",
              "      <td>0.50</td>\n",
              "      <td>0.96</td>\n",
              "      <td>0.00</td>\n",
              "      <td>0.73</td>\n",
              "    </tr>\n",
              "    <tr>\n",
              "      <th>LabelPropagation</th>\n",
              "      <td>0.97</td>\n",
              "      <td>0.50</td>\n",
              "      <td>0.50</td>\n",
              "      <td>0.96</td>\n",
              "      <td>0.00</td>\n",
              "      <td>0.66</td>\n",
              "    </tr>\n",
              "    <tr>\n",
              "      <th>RandomForestClassifier</th>\n",
              "      <td>0.97</td>\n",
              "      <td>0.50</td>\n",
              "      <td>0.50</td>\n",
              "      <td>0.96</td>\n",
              "      <td>0.00</td>\n",
              "      <td>0.96</td>\n",
              "    </tr>\n",
              "    <tr>\n",
              "      <th>CalibratedClassifierCV</th>\n",
              "      <td>0.97</td>\n",
              "      <td>0.50</td>\n",
              "      <td>0.50</td>\n",
              "      <td>0.96</td>\n",
              "      <td>0.00</td>\n",
              "      <td>4.07</td>\n",
              "    </tr>\n",
              "    <tr>\n",
              "      <th>KNeighborsClassifier</th>\n",
              "      <td>0.97</td>\n",
              "      <td>0.50</td>\n",
              "      <td>0.50</td>\n",
              "      <td>0.96</td>\n",
              "      <td>0.00</td>\n",
              "      <td>0.51</td>\n",
              "    </tr>\n",
              "    <tr>\n",
              "      <th>GaussianNB</th>\n",
              "      <td>0.97</td>\n",
              "      <td>0.50</td>\n",
              "      <td>0.50</td>\n",
              "      <td>0.96</td>\n",
              "      <td>0.00</td>\n",
              "      <td>0.55</td>\n",
              "    </tr>\n",
              "    <tr>\n",
              "      <th>SVC</th>\n",
              "      <td>0.97</td>\n",
              "      <td>0.50</td>\n",
              "      <td>0.50</td>\n",
              "      <td>0.96</td>\n",
              "      <td>0.00</td>\n",
              "      <td>1.08</td>\n",
              "    </tr>\n",
              "    <tr>\n",
              "      <th>XGBClassifier</th>\n",
              "      <td>0.97</td>\n",
              "      <td>0.50</td>\n",
              "      <td>0.50</td>\n",
              "      <td>0.96</td>\n",
              "      <td>0.00</td>\n",
              "      <td>10.21</td>\n",
              "    </tr>\n",
              "    <tr>\n",
              "      <th>ExtraTreeClassifier</th>\n",
              "      <td>0.94</td>\n",
              "      <td>0.49</td>\n",
              "      <td>0.49</td>\n",
              "      <td>0.94</td>\n",
              "      <td>-0.03</td>\n",
              "      <td>0.57</td>\n",
              "    </tr>\n",
              "    <tr>\n",
              "      <th>QuadraticDiscriminantAnalysis</th>\n",
              "      <td>0.34</td>\n",
              "      <td>0.18</td>\n",
              "      <td>0.18</td>\n",
              "      <td>0.50</td>\n",
              "      <td>-0.22</td>\n",
              "      <td>1.26</td>\n",
              "    </tr>\n",
              "  </tbody>\n",
              "</table>\n",
              "</div>\n",
              "      <button class=\"colab-df-convert\" onclick=\"convertToInteractive('df-b1943771-168a-4575-9118-ed1e9acc0a52')\"\n",
              "              title=\"Convert this dataframe to an interactive table.\"\n",
              "              style=\"display:none;\">\n",
              "        \n",
              "  <svg xmlns=\"http://www.w3.org/2000/svg\" height=\"24px\"viewBox=\"0 0 24 24\"\n",
              "       width=\"24px\">\n",
              "    <path d=\"M0 0h24v24H0V0z\" fill=\"none\"/>\n",
              "    <path d=\"M18.56 5.44l.94 2.06.94-2.06 2.06-.94-2.06-.94-.94-2.06-.94 2.06-2.06.94zm-11 1L8.5 8.5l.94-2.06 2.06-.94-2.06-.94L8.5 2.5l-.94 2.06-2.06.94zm10 10l.94 2.06.94-2.06 2.06-.94-2.06-.94-.94-2.06-.94 2.06-2.06.94z\"/><path d=\"M17.41 7.96l-1.37-1.37c-.4-.4-.92-.59-1.43-.59-.52 0-1.04.2-1.43.59L10.3 9.45l-7.72 7.72c-.78.78-.78 2.05 0 2.83L4 21.41c.39.39.9.59 1.41.59.51 0 1.02-.2 1.41-.59l7.78-7.78 2.81-2.81c.8-.78.8-2.07 0-2.86zM5.41 20L4 18.59l7.72-7.72 1.47 1.35L5.41 20z\"/>\n",
              "  </svg>\n",
              "      </button>\n",
              "      \n",
              "  <style>\n",
              "    .colab-df-container {\n",
              "      display:flex;\n",
              "      flex-wrap:wrap;\n",
              "      gap: 12px;\n",
              "    }\n",
              "\n",
              "    .colab-df-convert {\n",
              "      background-color: #E8F0FE;\n",
              "      border: none;\n",
              "      border-radius: 50%;\n",
              "      cursor: pointer;\n",
              "      display: none;\n",
              "      fill: #1967D2;\n",
              "      height: 32px;\n",
              "      padding: 0 0 0 0;\n",
              "      width: 32px;\n",
              "    }\n",
              "\n",
              "    .colab-df-convert:hover {\n",
              "      background-color: #E2EBFA;\n",
              "      box-shadow: 0px 1px 2px rgba(60, 64, 67, 0.3), 0px 1px 3px 1px rgba(60, 64, 67, 0.15);\n",
              "      fill: #174EA6;\n",
              "    }\n",
              "\n",
              "    [theme=dark] .colab-df-convert {\n",
              "      background-color: #3B4455;\n",
              "      fill: #D2E3FC;\n",
              "    }\n",
              "\n",
              "    [theme=dark] .colab-df-convert:hover {\n",
              "      background-color: #434B5C;\n",
              "      box-shadow: 0px 1px 3px 1px rgba(0, 0, 0, 0.15);\n",
              "      filter: drop-shadow(0px 1px 2px rgba(0, 0, 0, 0.3));\n",
              "      fill: #FFFFFF;\n",
              "    }\n",
              "  </style>\n",
              "\n",
              "      <script>\n",
              "        const buttonEl =\n",
              "          document.querySelector('#df-b1943771-168a-4575-9118-ed1e9acc0a52 button.colab-df-convert');\n",
              "        buttonEl.style.display =\n",
              "          google.colab.kernel.accessAllowed ? 'block' : 'none';\n",
              "\n",
              "        async function convertToInteractive(key) {\n",
              "          const element = document.querySelector('#df-b1943771-168a-4575-9118-ed1e9acc0a52');\n",
              "          const dataTable =\n",
              "            await google.colab.kernel.invokeFunction('convertToInteractive',\n",
              "                                                     [key], {});\n",
              "          if (!dataTable) return;\n",
              "\n",
              "          const docLinkHtml = 'Like what you see? Visit the ' +\n",
              "            '<a target=\"_blank\" href=https://colab.research.google.com/notebooks/data_table.ipynb>data table notebook</a>'\n",
              "            + ' to learn more about interactive tables.';\n",
              "          element.innerHTML = '';\n",
              "          dataTable['output_type'] = 'display_data';\n",
              "          await google.colab.output.renderOutput(dataTable, element);\n",
              "          const docLink = document.createElement('div');\n",
              "          docLink.innerHTML = docLinkHtml;\n",
              "          element.appendChild(docLink);\n",
              "        }\n",
              "      </script>\n",
              "    </div>\n",
              "  </div>\n",
              "  "
            ]
          },
          "metadata": {},
          "execution_count": 17
        }
      ]
    },
    {
      "cell_type": "code",
      "execution_count": null,
      "metadata": {
        "colab": {
          "base_uri": "https://localhost:8080/",
          "height": 633
        },
        "id": "4ONmPLKdcKP4",
        "outputId": "aa1eab20-a6fb-4897-f2df-4b1c9cabb6bf"
      },
      "outputs": [
        {
          "output_type": "execute_result",
          "data": {
            "text/plain": [
              "[(0.0, 1.0)]"
            ]
          },
          "metadata": {},
          "execution_count": 18
        },
        {
          "output_type": "display_data",
          "data": {
            "text/plain": [
              "<Figure size 360x720 with 1 Axes>"
            ],
            "image/png": "[encoded data removed]"
          },
          "metadata": {
            "needs_background": "light"
          }
        }
      ],
      "source": [
        "# Plot of Accuracy\n",
        "plt.figure(figsize=(5, 10))\n",
        "sns.set_theme(style=\"whitegrid\")\n",
        "ax = sns.barplot(y=models.index, x=\"Accuracy\", \n",
        "                 data=models)\n",
        "ax.set(xlim=(0, 1))"
      ]
    },
    {
      "cell_type": "code",
      "execution_count": null,
      "metadata": {
        "colab": {
          "base_uri": "https://localhost:8080/",
          "height": 633
        },
        "id": "Bse08KSUW1FJ",
        "outputId": "5af077be-5817-4d47-8bbd-c8142d19a336"
      },
      "outputs": [
        {
          "output_type": "execute_result",
          "data": {
            "text/plain": [
              "[(0.0, 1.0)]"
            ]
          },
          "metadata": {},
          "execution_count": 19
        },
        {
          "output_type": "display_data",
          "data": {
            "text/plain": [
              "<Figure size 360x720 with 1 Axes>"
            ],
            "image/png": "[encoded data removed]"
          },
          "metadata": {}
        }
      ],
      "source": [
        "# Plot of MCC\n",
        "plt.figure(figsize=(5, 10))\n",
        "sns.set_theme(style=\"whitegrid\")\n",
        "ax = sns.barplot(y=models.index, \n",
        "                 x=\"matthews_corrcoef\", data=models)\n",
        "ax.set(xlim=(0, 1))"
      ]
    },
    {
      "cell_type": "markdown",
      "metadata": {
        "id": "CvITCk5anJ96"
      },
      "source": [
        "---\n",
        "We did not fine-tuned the hyperparameters of the best model because the performance metrics with the default parameters were very high, so hyperparameter tuning was not necessary."
      ]
    },
    {
      "cell_type": "markdown",
      "metadata": {
        "id": "ZK0-qLC2EfYh"
      },
      "source": [
        "### **Evaluation of the best model on the test dataset**\n",
        "According to the summary tables presented above, there were some models with a perfect prediction capcity considering all of the performance metrics (values of 1 in the previous table). However, these methods are based on regression classifiers, which cannot show the feature importance of the model. So, we used the **LGBMClassifier** that also have high performance metrics values and keep track of the feature importance (in this case, the gene expression values).\n",
        "\n",
        "Thus, we trained this model again on the entire training dataset (without creating the validation partition) and evaluated it on the **test dataset**. "
      ]
    },
    {
      "cell_type": "code",
      "source": [
        "clf.models[\"LGBMClassifier\"]"
      ],
      "metadata": {
        "colab": {
          "base_uri": "https://localhost:8080/"
        },
        "id": "68DfL13_f6kr",
        "outputId": "b8be38bd-caaa-41dc-ed11-5eab611b6df2"
      },
      "execution_count": null,
      "outputs": [
        {
          "output_type": "execute_result",
          "data": {
            "text/plain": [
              "Pipeline(steps=[('preprocessor',\n",
              "                 ColumnTransformer(transformers=[('numeric',\n",
              "                                                  Pipeline(steps=[('imputer',\n",
              "                                                                   SimpleImputer()),\n",
              "                                                                  ('scaler',\n",
              "                                                                   StandardScaler())]),\n",
              "                                                  Int64Index([    0,     1,     2,     3,     4,     5,     6,     7,     8,\n",
              "                9,\n",
              "            ...\n",
              "            20771, 20772, 20773, 20774, 20775, 20776, 20777, 20778, 20779,\n",
              "            20780],\n",
              "           dtype='int64', length=20781)),\n",
              "                                                 ('categorical_low',\n",
              "                                                  Pipeline(steps=[('imputer',\n",
              "                                                                   SimpleImputer(fill_value='missing',\n",
              "                                                                                 strategy='constant')),\n",
              "                                                                  ('encoding',\n",
              "                                                                   OneHotEncoder(handle_unknown='ignore',\n",
              "                                                                                 sparse=False))]),\n",
              "                                                  Int64Index([], dtype='int64')),\n",
              "                                                 ('categorical_high',\n",
              "                                                  Pipeline(steps=[('imputer',\n",
              "                                                                   SimpleImputer(fill_value='missing',\n",
              "                                                                                 strategy='constant')),\n",
              "                                                                  ('encoding',\n",
              "                                                                   OrdinalEncoder())]),\n",
              "                                                  Int64Index([], dtype='int64'))])),\n",
              "                ('classifier', LGBMClassifier(random_state=42))])"
            ]
          },
          "metadata": {},
          "execution_count": 20
        }
      ]
    },
    {
      "cell_type": "code",
      "source": [
        "# Implementation of the best models\n",
        "best_model1 = make_pipeline(StandardScaler(), LGBMClassifier(random_state=42))\n",
        "best_model1.fit(X_train, y_train)\n",
        "\n",
        "best_model2 = make_pipeline(StandardScaler(), AdaBoostClassifier(random_state=42))\n",
        "best_model2.fit(X_train, y_train)"
      ],
      "metadata": {
        "colab": {
          "base_uri": "https://localhost:8080/"
        },
        "id": "uPklLxPX20AR",
        "outputId": "de91ff0b-d4a9-4274-e07d-f9a5affc2cd7"
      },
      "execution_count": 15,
      "outputs": [
        {
          "output_type": "execute_result",
          "data": {
            "text/plain": [
              "Pipeline(steps=[('standardscaler', StandardScaler()),\n",
              "                ('adaboostclassifier', AdaBoostClassifier(random_state=42))])"
            ]
          },
          "metadata": {},
          "execution_count": 15
        }
      ]
    },
    {
      "cell_type": "code",
      "execution_count": null,
      "metadata": {
        "id": "yaRuZ3PmPAvO"
      },
      "outputs": [],
      "source": [
        "# Predicting values with the best model on test and external datasets\n",
        "y_test_pred = best_model1.predict(X_test)"
      ]
    },
    {
      "cell_type": "code",
      "execution_count": null,
      "metadata": {
        "id": "oU7rVjQfKEr3"
      },
      "outputs": [],
      "source": [
        "# Dataset to store performance metrics\n",
        "results_bestMLmodel = pd.DataFrame()"
      ]
    },
    {
      "cell_type": "code",
      "execution_count": null,
      "metadata": {
        "id": "w_8kM4ziM3UD"
      },
      "outputs": [],
      "source": [
        "# Calculate performance metrics\n",
        "roc_auc_test = roc_auc_score(y_test, y_test_pred)\n",
        "\n",
        "acc_test = accuracy_score(y_test, y_test_pred)\n",
        "\n",
        "prec_test = precision_score(y_test, y_test_pred)\n",
        "\n",
        "recall_test = recall_score(y_test, y_test_pred)\n",
        "\n",
        "f1score_test = f1_score(y_test, y_test_pred)\n",
        "\n",
        "mcc_test = matthews_corrcoef(y_test, y_test_pred)\n",
        "\n",
        "# Add columns to the dataset\n",
        "results_bestMLmodel[\"Performance_metric\"] = ['ROC_AUC','Accuracy', 'Precision', \n",
        "                                             'Recall', 'F1score', 'MCC']\n",
        "\n",
        "results_bestMLmodel[\"Test_dataset\"] = [roc_auc_test, acc_test, prec_test, \n",
        "                                       recall_test, f1score_test, mcc_test]"
      ]
    },
    {
      "cell_type": "code",
      "execution_count": null,
      "metadata": {
        "colab": {
          "base_uri": "https://localhost:8080/",
          "height": 272
        },
        "id": "fTfmVcyOOzr3",
        "outputId": "04019c8f-3823-440c-8952-abb4a9cd5bc0"
      },
      "outputs": [
        {
          "output_type": "execute_result",
          "data": {
            "text/plain": [
              "  Performance_metric  Test_dataset\n",
              "0            ROC_AUC          1.00\n",
              "1           Accuracy          1.00\n",
              "2          Precision          1.00\n",
              "3             Recall          1.00\n",
              "4            F1score          1.00\n",
              "5                MCC          1.00"
            ],
            "text/html": [
              "\n",
              "  <div id=\"df-547ae9d5-0c5a-4866-8554-d799e2c1a93b\">\n",
              "    <div class=\"colab-df-container\">\n",
              "      <div>\n",
              "<style scoped>\n",
              "    .dataframe tbody tr th:only-of-type {\n",
              "        vertical-align: middle;\n",
              "    }\n",
              "\n",
              "    .dataframe tbody tr th {\n",
              "        vertical-align: top;\n",
              "    }\n",
              "\n",
              "    .dataframe thead th {\n",
              "        text-align: right;\n",
              "    }\n",
              "</style>\n",
              "<table border=\"1\" class=\"dataframe\">\n",
              "  <thead>\n",
              "    <tr style=\"text-align: right;\">\n",
              "      <th></th>\n",
              "      <th>Performance_metric</th>\n",
              "      <th>Test_dataset</th>\n",
              "    </tr>\n",
              "  </thead>\n",
              "  <tbody>\n",
              "    <tr>\n",
              "      <th>0</th>\n",
              "      <td>ROC_AUC</td>\n",
              "      <td>1.00</td>\n",
              "    </tr>\n",
              "    <tr>\n",
              "      <th>1</th>\n",
              "      <td>Accuracy</td>\n",
              "      <td>1.00</td>\n",
              "    </tr>\n",
              "    <tr>\n",
              "      <th>2</th>\n",
              "      <td>Precision</td>\n",
              "      <td>1.00</td>\n",
              "    </tr>\n",
              "    <tr>\n",
              "      <th>3</th>\n",
              "      <td>Recall</td>\n",
              "      <td>1.00</td>\n",
              "    </tr>\n",
              "    <tr>\n",
              "      <th>4</th>\n",
              "      <td>F1score</td>\n",
              "      <td>1.00</td>\n",
              "    </tr>\n",
              "    <tr>\n",
              "      <th>5</th>\n",
              "      <td>MCC</td>\n",
              "      <td>1.00</td>\n",
              "    </tr>\n",
              "  </tbody>\n",
              "</table>\n",
              "</div>\n",
              "      <button class=\"colab-df-convert\" onclick=\"convertToInteractive('df-547ae9d5-0c5a-4866-8554-d799e2c1a93b')\"\n",
              "              title=\"Convert this dataframe to an interactive table.\"\n",
              "              style=\"display:none;\">\n",
              "        \n",
              "  <svg xmlns=\"http://www.w3.org/2000/svg\" height=\"24px\"viewBox=\"0 0 24 24\"\n",
              "       width=\"24px\">\n",
              "    <path d=\"M0 0h24v24H0V0z\" fill=\"none\"/>\n",
              "    <path d=\"M18.56 5.44l.94 2.06.94-2.06 2.06-.94-2.06-.94-.94-2.06-.94 2.06-2.06.94zm-11 1L8.5 8.5l.94-2.06 2.06-.94-2.06-.94L8.5 2.5l-.94 2.06-2.06.94zm10 10l.94 2.06.94-2.06 2.06-.94-2.06-.94-.94-2.06-.94 2.06-2.06.94z\"/><path d=\"M17.41 7.96l-1.37-1.37c-.4-.4-.92-.59-1.43-.59-.52 0-1.04.2-1.43.59L10.3 9.45l-7.72 7.72c-.78.78-.78 2.05 0 2.83L4 21.41c.39.39.9.59 1.41.59.51 0 1.02-.2 1.41-.59l7.78-7.78 2.81-2.81c.8-.78.8-2.07 0-2.86zM5.41 20L4 18.59l7.72-7.72 1.47 1.35L5.41 20z\"/>\n",
              "  </svg>\n",
              "      </button>\n",
              "      \n",
              "  <style>\n",
              "    .colab-df-container {\n",
              "      display:flex;\n",
              "      flex-wrap:wrap;\n",
              "      gap: 12px;\n",
              "    }\n",
              "\n",
              "    .colab-df-convert {\n",
              "      background-color: #E8F0FE;\n",
              "      border: none;\n",
              "      border-radius: 50%;\n",
              "      cursor: pointer;\n",
              "      display: none;\n",
              "      fill: #1967D2;\n",
              "      height: 32px;\n",
              "      padding: 0 0 0 0;\n",
              "      width: 32px;\n",
              "    }\n",
              "\n",
              "    .colab-df-convert:hover {\n",
              "      background-color: #E2EBFA;\n",
              "      box-shadow: 0px 1px 2px rgba(60, 64, 67, 0.3), 0px 1px 3px 1px rgba(60, 64, 67, 0.15);\n",
              "      fill: #174EA6;\n",
              "    }\n",
              "\n",
              "    [theme=dark] .colab-df-convert {\n",
              "      background-color: #3B4455;\n",
              "      fill: #D2E3FC;\n",
              "    }\n",
              "\n",
              "    [theme=dark] .colab-df-convert:hover {\n",
              "      background-color: #434B5C;\n",
              "      box-shadow: 0px 1px 3px 1px rgba(0, 0, 0, 0.15);\n",
              "      filter: drop-shadow(0px 1px 2px rgba(0, 0, 0, 0.3));\n",
              "      fill: #FFFFFF;\n",
              "    }\n",
              "  </style>\n",
              "\n",
              "      <script>\n",
              "        const buttonEl =\n",
              "          document.querySelector('#df-547ae9d5-0c5a-4866-8554-d799e2c1a93b button.colab-df-convert');\n",
              "        buttonEl.style.display =\n",
              "          google.colab.kernel.accessAllowed ? 'block' : 'none';\n",
              "\n",
              "        async function convertToInteractive(key) {\n",
              "          const element = document.querySelector('#df-547ae9d5-0c5a-4866-8554-d799e2c1a93b');\n",
              "          const dataTable =\n",
              "            await google.colab.kernel.invokeFunction('convertToInteractive',\n",
              "                                                     [key], {});\n",
              "          if (!dataTable) return;\n",
              "\n",
              "          const docLinkHtml = 'Like what you see? Visit the ' +\n",
              "            '<a target=\"_blank\" href=https://colab.research.google.com/notebooks/data_table.ipynb>data table notebook</a>'\n",
              "            + ' to learn more about interactive tables.';\n",
              "          element.innerHTML = '';\n",
              "          dataTable['output_type'] = 'display_data';\n",
              "          await google.colab.output.renderOutput(dataTable, element);\n",
              "          const docLink = document.createElement('div');\n",
              "          docLink.innerHTML = docLinkHtml;\n",
              "          element.appendChild(docLink);\n",
              "        }\n",
              "      </script>\n",
              "    </div>\n",
              "  </div>\n",
              "  "
            ]
          },
          "metadata": {},
          "execution_count": 25
        }
      ],
      "source": [
        "# Show the evaluation results of the best model\n",
        "results_bestMLmodel"
      ]
    },
    {
      "cell_type": "code",
      "execution_count": null,
      "metadata": {
        "id": "WjxlipmUQ1N5"
      },
      "outputs": [],
      "source": [
        "results_bestMLmodel.to_csv(\"evaluation_bestMLclassifier.csv\")"
      ]
    },
    {
      "cell_type": "code",
      "source": [
        "best_model[1].feature_importances_"
      ],
      "metadata": {
        "colab": {
          "base_uri": "https://localhost:8080/"
        },
        "id": "KWkcGHq162Gz",
        "outputId": "1ec206bd-c5a0-4ac6-dce5-a911279ef634"
      },
      "execution_count": null,
      "outputs": [
        {
          "output_type": "execute_result",
          "data": {
            "text/plain": [
              "array([3, 0, 0, ..., 0, 0, 0])"
            ]
          },
          "metadata": {},
          "execution_count": 26
        }
      ]
    },
    {
      "cell_type": "markdown",
      "metadata": {
        "id": "y-EaFk3SnLvc"
      },
      "source": [
        "### **Feature importance of the best model**"
      ]
    },
    {
      "cell_type": "code",
      "execution_count": 23,
      "metadata": {
        "id": "ZFdeHIRXuqo_"
      },
      "outputs": [],
      "source": [
        "# Retrieve feature importance from the best models\n",
        "importance_bestmodel1 = pd.Series(best_model1[1].feature_importances_, name = 'Importance (split)')\n",
        "importance_bestmodel2 = pd.Series(best_model2[1].feature_importances_, name = 'Gini')\n",
        "\n",
        "# Retrieve feature names\n",
        "feature_names = pd.Series(final_df_NFPPCM.columns, name = 'Feature')"
      ]
    },
    {
      "cell_type": "code",
      "execution_count": 24,
      "metadata": {
        "id": "Cq4r6KsC_tb5"
      },
      "outputs": [],
      "source": [
        "# Combine feature names and Gini values into a Dataframe\n",
        "feat_import_bestmodel1 = pd.concat([feature_names, importance_bestmodel1], axis=1, names=['Feature', 'Importance (split)'])\n",
        "feat_import_bestmodel2 = pd.concat([feature_names, importance_bestmodel2], axis=1, names=['Feature', 'Gini'])\n",
        "\n",
        "# Sort the dataframe by Gini in descending order\n",
        "featimp_bestmodel1_sort = feat_import_bestmodel1.sort_values('Importance (split)', ascending=False)\n",
        "featimp_bestmodel2_sort = feat_import_bestmodel2.sort_values('Gini', ascending=False)"
      ]
    },
    {
      "cell_type": "code",
      "source": [
        "featimp_bestmodel1_sort"
      ],
      "metadata": {
        "colab": {
          "base_uri": "https://localhost:8080/",
          "height": 488
        },
        "id": "mOwz9iXF-TZB",
        "outputId": "91dcc61c-09b9-45a0-9b8f-78073f2ff3d1"
      },
      "execution_count": 21,
      "outputs": [
        {
          "output_type": "execute_result",
          "data": {
            "text/plain": [
              "               Feature  Importance (split)\n",
              "17311  ENSG00000237928                  14\n",
              "1768   ENSG00000092009                   7\n",
              "18077  ENSG00000249631                   7\n",
              "20422  ENSG00000272327                   6\n",
              "12694  ENSG00000183098                   5\n",
              "...                ...                 ...\n",
              "6976   ENSG00000140519                   0\n",
              "6975   ENSG00000140511                   0\n",
              "6973   ENSG00000140497                   0\n",
              "6972   ENSG00000140479                   0\n",
              "20780  ENSG00000273493                   0\n",
              "\n",
              "[20781 rows x 2 columns]"
            ],
            "text/html": [
              "\n",
              "  <div id=\"df-2d98ac4c-44c3-489c-94e9-e81292c454b0\">\n",
              "    <div class=\"colab-df-container\">\n",
              "      <div>\n",
              "<style scoped>\n",
              "    .dataframe tbody tr th:only-of-type {\n",
              "        vertical-align: middle;\n",
              "    }\n",
              "\n",
              "    .dataframe tbody tr th {\n",
              "        vertical-align: top;\n",
              "    }\n",
              "\n",
              "    .dataframe thead th {\n",
              "        text-align: right;\n",
              "    }\n",
              "</style>\n",
              "<table border=\"1\" class=\"dataframe\">\n",
              "  <thead>\n",
              "    <tr style=\"text-align: right;\">\n",
              "      <th></th>\n",
              "      <th>Feature</th>\n",
              "      <th>Importance (split)</th>\n",
              "    </tr>\n",
              "  </thead>\n",
              "  <tbody>\n",
              "    <tr>\n",
              "      <th>17311</th>\n",
              "      <td>ENSG00000237928</td>\n",
              "      <td>14</td>\n",
              "    </tr>\n",
              "    <tr>\n",
              "      <th>1768</th>\n",
              "      <td>ENSG00000092009</td>\n",
              "      <td>7</td>\n",
              "    </tr>\n",
              "    <tr>\n",
              "      <th>18077</th>\n",
              "      <td>ENSG00000249631</td>\n",
              "      <td>7</td>\n",
              "    </tr>\n",
              "    <tr>\n",
              "      <th>20422</th>\n",
              "      <td>ENSG00000272327</td>\n",
              "      <td>6</td>\n",
              "    </tr>\n",
              "    <tr>\n",
              "      <th>12694</th>\n",
              "      <td>ENSG00000183098</td>\n",
              "      <td>5</td>\n",
              "    </tr>\n",
              "    <tr>\n",
              "      <th>...</th>\n",
              "      <td>...</td>\n",
              "      <td>...</td>\n",
              "    </tr>\n",
              "    <tr>\n",
              "      <th>6976</th>\n",
              "      <td>ENSG00000140519</td>\n",
              "      <td>0</td>\n",
              "    </tr>\n",
              "    <tr>\n",
              "      <th>6975</th>\n",
              "      <td>ENSG00000140511</td>\n",
              "      <td>0</td>\n",
              "    </tr>\n",
              "    <tr>\n",
              "      <th>6973</th>\n",
              "      <td>ENSG00000140497</td>\n",
              "      <td>0</td>\n",
              "    </tr>\n",
              "    <tr>\n",
              "      <th>6972</th>\n",
              "      <td>ENSG00000140479</td>\n",
              "      <td>0</td>\n",
              "    </tr>\n",
              "    <tr>\n",
              "      <th>20780</th>\n",
              "      <td>ENSG00000273493</td>\n",
              "      <td>0</td>\n",
              "    </tr>\n",
              "  </tbody>\n",
              "</table>\n",
              "<p>20781 rows × 2 columns</p>\n",
              "</div>\n",
              "      <button class=\"colab-df-convert\" onclick=\"convertToInteractive('df-2d98ac4c-44c3-489c-94e9-e81292c454b0')\"\n",
              "              title=\"Convert this dataframe to an interactive table.\"\n",
              "              style=\"display:none;\">\n",
              "        \n",
              "  <svg xmlns=\"http://www.w3.org/2000/svg\" height=\"24px\"viewBox=\"0 0 24 24\"\n",
              "       width=\"24px\">\n",
              "    <path d=\"M0 0h24v24H0V0z\" fill=\"none\"/>\n",
              "    <path d=\"M18.56 5.44l.94 2.06.94-2.06 2.06-.94-2.06-.94-.94-2.06-.94 2.06-2.06.94zm-11 1L8.5 8.5l.94-2.06 2.06-.94-2.06-.94L8.5 2.5l-.94 2.06-2.06.94zm10 10l.94 2.06.94-2.06 2.06-.94-2.06-.94-.94-2.06-.94 2.06-2.06.94z\"/><path d=\"M17.41 7.96l-1.37-1.37c-.4-.4-.92-.59-1.43-.59-.52 0-1.04.2-1.43.59L10.3 9.45l-7.72 7.72c-.78.78-.78 2.05 0 2.83L4 21.41c.39.39.9.59 1.41.59.51 0 1.02-.2 1.41-.59l7.78-7.78 2.81-2.81c.8-.78.8-2.07 0-2.86zM5.41 20L4 18.59l7.72-7.72 1.47 1.35L5.41 20z\"/>\n",
              "  </svg>\n",
              "      </button>\n",
              "      \n",
              "  <style>\n",
              "    .colab-df-container {\n",
              "      display:flex;\n",
              "      flex-wrap:wrap;\n",
              "      gap: 12px;\n",
              "    }\n",
              "\n",
              "    .colab-df-convert {\n",
              "      background-color: #E8F0FE;\n",
              "      border: none;\n",
              "      border-radius: 50%;\n",
              "      cursor: pointer;\n",
              "      display: none;\n",
              "      fill: #1967D2;\n",
              "      height: 32px;\n",
              "      padding: 0 0 0 0;\n",
              "      width: 32px;\n",
              "    }\n",
              "\n",
              "    .colab-df-convert:hover {\n",
              "      background-color: #E2EBFA;\n",
              "      box-shadow: 0px 1px 2px rgba(60, 64, 67, 0.3), 0px 1px 3px 1px rgba(60, 64, 67, 0.15);\n",
              "      fill: #174EA6;\n",
              "    }\n",
              "\n",
              "    [theme=dark] .colab-df-convert {\n",
              "      background-color: #3B4455;\n",
              "      fill: #D2E3FC;\n",
              "    }\n",
              "\n",
              "    [theme=dark] .colab-df-convert:hover {\n",
              "      background-color: #434B5C;\n",
              "      box-shadow: 0px 1px 3px 1px rgba(0, 0, 0, 0.15);\n",
              "      filter: drop-shadow(0px 1px 2px rgba(0, 0, 0, 0.3));\n",
              "      fill: #FFFFFF;\n",
              "    }\n",
              "  </style>\n",
              "\n",
              "      <script>\n",
              "        const buttonEl =\n",
              "          document.querySelector('#df-2d98ac4c-44c3-489c-94e9-e81292c454b0 button.colab-df-convert');\n",
              "        buttonEl.style.display =\n",
              "          google.colab.kernel.accessAllowed ? 'block' : 'none';\n",
              "\n",
              "        async function convertToInteractive(key) {\n",
              "          const element = document.querySelector('#df-2d98ac4c-44c3-489c-94e9-e81292c454b0');\n",
              "          const dataTable =\n",
              "            await google.colab.kernel.invokeFunction('convertToInteractive',\n",
              "                                                     [key], {});\n",
              "          if (!dataTable) return;\n",
              "\n",
              "          const docLinkHtml = 'Like what you see? Visit the ' +\n",
              "            '<a target=\"_blank\" href=https://colab.research.google.com/notebooks/data_table.ipynb>data table notebook</a>'\n",
              "            + ' to learn more about interactive tables.';\n",
              "          element.innerHTML = '';\n",
              "          dataTable['output_type'] = 'display_data';\n",
              "          await google.colab.output.renderOutput(dataTable, element);\n",
              "          const docLink = document.createElement('div');\n",
              "          docLink.innerHTML = docLinkHtml;\n",
              "          element.appendChild(docLink);\n",
              "        }\n",
              "      </script>\n",
              "    </div>\n",
              "  </div>\n",
              "  "
            ]
          },
          "metadata": {},
          "execution_count": 21
        }
      ]
    },
    {
      "cell_type": "code",
      "execution_count": 27,
      "metadata": {
        "colab": {
          "base_uri": "https://localhost:8080/",
          "height": 899
        },
        "id": "xWHo58SIu1RU",
        "outputId": "1b8d6b84-99bf-4238-c27b-bf88e88b511a"
      },
      "outputs": [
        {
          "output_type": "display_data",
          "data": {
            "text/plain": [
              "<Figure size 2376x1080 with 2 Axes>"
            ],
            "image/png": "[encoded data removed]"
          },
          "metadata": {}
        }
      ],
      "source": [
        "# Plot of feature importance of the 3 algorithms\n",
        "#plt.figure(figsize=(5, 10))\n",
        "sns.set_theme(style=\"whitegrid\")\n",
        "fig, (ax1, ax2) = plt.subplots(1,2, figsize=(33, 15))\n",
        "\n",
        "sns.barplot(ax = ax1, x = 'Importance (split)', y = 'Feature', data = featimp_bestmodel1_sort.iloc[0:19])\n",
        "ax1.title.set_text('LGBMClassifier')\n",
        "sns.barplot(ax = ax2, x = 'Gini', y = 'Feature', data = featimp_bestmodel2_sort.iloc[0:19])\n",
        "ax2.title.set_text('AdaBoostClassifier')"
      ]
    },
    {
      "cell_type": "code",
      "source": [
        "# Plot of feature importance\n",
        "plt.figure(figsize=(5, 10))\n",
        "sns.set_theme(style=\"whitegrid\")\n",
        "ax = sns.barplot(x = 'Gini', y = 'Feature', data = feat_import_sorted.iloc[0:19])\n",
        "plt.xlabel(\"Feature Importance\")"
      ],
      "metadata": {
        "colab": {
          "base_uri": "https://localhost:8080/",
          "height": 633
        },
        "id": "_XYjvRsgKhOc",
        "outputId": "3cd86ef6-702f-46a7-9d25-df063099d6a3"
      },
      "execution_count": null,
      "outputs": [
        {
          "output_type": "execute_result",
          "data": {
            "text/plain": [
              "Text(0.5, 0, 'Feature Importance')"
            ]
          },
          "metadata": {},
          "execution_count": 60
        },
        {
          "output_type": "display_data",
          "data": {
            "text/plain": [
              "<Figure size 360x720 with 1 Axes>"
            ],
            "image/png": "[encoded data removed]"
          },
          "metadata": {}
        }
      ]
    },
    {
      "cell_type": "markdown",
      "source": [
        "The feature importance results show that most of the genes have low Gini impurity values, which means that all elements belong to a certain class and there are not highly important genes that helps to the classification task."
      ],
      "metadata": {
        "id": "SiQd88ltDLcf"
      }
    },
    {
      "cell_type": "markdown",
      "metadata": {
        "id": "fIshhKeCVdxz"
      },
      "source": [
        "### **Save the best model into a file**"
      ]
    },
    {
      "cell_type": "code",
      "execution_count": null,
      "metadata": {
        "colab": {
          "base_uri": "https://localhost:8080/",
          "height": 43
        },
        "id": "B9hQ5sd0Vh8g",
        "outputId": "d613c9e8-cd5c-46ac-8ba5-91b579e7c691"
      },
      "outputs": [
        {
          "output_type": "execute_result",
          "data": {
            "text/plain": [
              "'RandomForestClassifier_NF_DCM'"
            ],
            "application/vnd.google.colaboratory.intrinsic+json": {
              "type": "string"
            }
          },
          "metadata": {},
          "execution_count": 86
        }
      ],
      "source": [
        "# Define the output file's name\n",
        "output_file = f'RandomForestClassifier_NF_DCM'\n",
        "output_file"
      ]
    },
    {
      "cell_type": "code",
      "execution_count": null,
      "metadata": {
        "id": "7-6gKurIVpWI"
      },
      "outputs": [],
      "source": [
        "# Export the binary file of the best model\n",
        "with open(output_file, \"wb\") as f_out:\n",
        "    pickle.dump(best_model[1], f_out)"
      ]
    },
    {
      "cell_type": "markdown",
      "metadata": {
        "id": "TuPnx5mWeizm"
      },
      "source": [
        "---"
      ]
    }
  ],
  "metadata": {
    "accelerator": "GPU",
    "colab": {
      "provenance": []
    },
    "kernelspec": {
      "display_name": "Python 3",
      "name": "python3"
    },
    "language_info": {
      "codemirror_mode": {
        "name": "ipython",
        "version": 3
      },
      "file_extension": ".py",
      "mimetype": "text/x-python",
      "name": "python",
      "nbconvert_exporter": "python",
      "pygments_lexer": "ipython3",
      "version": "3.8.11"
    }
  },
  "nbformat": 4,
  "nbformat_minor": 0
}
