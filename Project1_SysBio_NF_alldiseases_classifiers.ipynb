{
  "cells": [
    {
      "cell_type": "markdown",
      "metadata": {
        "id": "QPP0blfZXted"
      },
      "source": [
        "<a href=\"https://colab.research.google.com/github/sayalaruano/Project3Period-SysBioMaster/blob/main/Project1_SysBio_NF_DCM_classifiers.ipynb\" target=\"_parent\"><img src=\"https://colab.research.google.com/assets/colab-badge.svg\" alt=\"Open In Colab\"/></a>"
      ]
    },
    {
      "cell_type": "markdown",
      "metadata": {
        "id": "ihD1ikv4A_U-"
      },
      "source": [
        "# **Predicting cardiomyopathies using RNAseq data with machine learning models**\n",
        "\n",
        "This notebook is part of a group project for the Systems Biology masters at Maastricht University.\n",
        "\n",
        "You can find more details about my capstone project in this [GitHub repository](https://github.com/sayalaruano/Project3Period-SysBioMaster).\n",
        "\n",
        "## Dataset description\n",
        "We will be using an [RNA-sequencing dataset from the MAGNet consortium](https://github.com/mpmorley/MAGNet). To generate this dataset, leftventricular free-wall tissue was harvested at the time of cardiac surgery fromsubjects with heart failure undergoing transplantation and from unused donor hearts with apparently normal function.  This dataset is a spectacular resource of left ventricular transcriptomes of **non-failing healthy donors**, \n",
        "**Peripartum cardiomyopathy (PPCM)**, **Hypertrophic cardiomyopathy (HCM)** and **Dilated cardiomyopathy (DCM)** patients. Next to the RNA-sequencing data (in log2-transformed CPM values), extensive participant information is available (age, sex, ethnicity, disease state, and so on).\n",
        "\n",
        "**Note:** `mkdir`, `wget`, `unzip`, `make`, `cd`, `grep`, and `cat` are Unix based OS commands, so if you are in Windows, maybe these terminal tools won't work."
      ]
    },
    {
      "cell_type": "markdown",
      "metadata": {
        "id": "2E2XwwoUWbtw"
      },
      "source": [
        "## **Installation of libraries**"
      ]
    },
    {
      "cell_type": "markdown",
      "metadata": {
        "id": "xLMn-W76a5gD"
      },
      "source": [
        "### **[LazyPredict](https://github.com/shankarpandala/lazypredict)**\n",
        "Library to run many sklearn's binary classifiers with default parameters"
      ]
    },
    {
      "cell_type": "code",
      "execution_count": 2,
      "metadata": {
        "id": "DRjGMT2FVNZm",
        "colab": {
          "base_uri": "https://localhost:8080/"
        },
        "outputId": "91f09926-2568-4839-ce10-adb7a96e8cd0"
      },
      "outputs": [
        {
          "output_type": "stream",
          "name": "stdout",
          "text": [
            "Looking in indexes: https://pypi.org/simple, https://us-python.pkg.dev/colab-wheels/public/simple/\n",
            "Collecting lazypredict\n",
            "  Downloading lazypredict-0.2.12-py2.py3-none-any.whl (12 kB)\n",
            "Requirement already satisfied: tqdm in /usr/local/lib/python3.8/dist-packages (from lazypredict) (4.64.1)\n",
            "Requirement already satisfied: pandas in /usr/local/lib/python3.8/dist-packages (from lazypredict) (1.3.5)\n",
            "Requirement already satisfied: click in /usr/local/lib/python3.8/dist-packages (from lazypredict) (7.1.2)\n",
            "Requirement already satisfied: joblib in /usr/local/lib/python3.8/dist-packages (from lazypredict) (1.2.0)\n",
            "Requirement already satisfied: xgboost in /usr/local/lib/python3.8/dist-packages (from lazypredict) (0.90)\n",
            "Requirement already satisfied: lightgbm in /usr/local/lib/python3.8/dist-packages (from lazypredict) (2.2.3)\n",
            "Requirement already satisfied: scikit-learn in /usr/local/lib/python3.8/dist-packages (from lazypredict) (1.0.2)\n",
            "Requirement already satisfied: scipy in /usr/local/lib/python3.8/dist-packages (from lightgbm->lazypredict) (1.7.3)\n",
            "Requirement already satisfied: numpy in /usr/local/lib/python3.8/dist-packages (from lightgbm->lazypredict) (1.21.6)\n",
            "Requirement already satisfied: pytz>=2017.3 in /usr/local/lib/python3.8/dist-packages (from pandas->lazypredict) (2022.7)\n",
            "Requirement already satisfied: python-dateutil>=2.7.3 in /usr/local/lib/python3.8/dist-packages (from pandas->lazypredict) (2.8.2)\n",
            "Requirement already satisfied: threadpoolctl>=2.0.0 in /usr/local/lib/python3.8/dist-packages (from scikit-learn->lazypredict) (3.1.0)\n",
            "Requirement already satisfied: six>=1.5 in /usr/local/lib/python3.8/dist-packages (from python-dateutil>=2.7.3->pandas->lazypredict) (1.15.0)\n",
            "Installing collected packages: lazypredict\n",
            "Successfully installed lazypredict-0.2.12\n"
          ]
        }
      ],
      "source": [
        "!pip install lazypredict"
      ]
    },
    {
      "cell_type": "markdown",
      "metadata": {
        "id": "mZYPeKm97sFk"
      },
      "source": [
        "## **Imports, data obtention, and pre-processing**"
      ]
    },
    {
      "cell_type": "code",
      "execution_count": 3,
      "metadata": {
        "id": "9Ql8qTq3dLSg"
      },
      "outputs": [],
      "source": [
        "# Download and unzip \n",
        "from urllib.request import urlopen\n",
        "from io import BytesIO\n",
        "from zipfile import ZipFile\n",
        "\n",
        "# Data manipulation and EDA\n",
        "import pandas as pd\n",
        "import numpy as np\n",
        "\n",
        "# Plots\n",
        "import matplotlib.pyplot as plt\n",
        "import seaborn as sns\n",
        "\n",
        "# Machine learning classifers\n",
        "import lazypredict\n",
        "import pickle\n",
        "from lazypredict.Supervised import LazyClassifier\n",
        "from sklearn.model_selection import train_test_split\n",
        "from sklearn.ensemble import RandomForestClassifier\n",
        "from sklearn.preprocessing import StandardScaler\n",
        "from sklearn.pipeline import make_pipeline\n",
        "from sklearn.model_selection import GridSearchCV\n",
        "from lightgbm import LGBMClassifier\n",
        "from xgboost import XGBClassifier\n",
        "from sklearn.metrics import roc_auc_score, accuracy_score, precision_score, recall_score, f1_score, matthews_corrcoef\n",
        "from sklearn.metrics import make_scorer\n",
        "from sklearn.preprocessing import LabelEncoder\n",
        "from sklearn.metrics import confusion_matrix"
      ]
    },
    {
      "cell_type": "code",
      "execution_count": 4,
      "metadata": {
        "id": "FA6Vue0LD0_t"
      },
      "outputs": [],
      "source": [
        "# Download and unzip data\n",
        "def download_and_unzip(url, extract_to='.'):\n",
        "    http_response = urlopen(url)\n",
        "    zipfile = ZipFile(BytesIO(http_response.read()))\n",
        "    zipfile.extractall(path=extract_to)\n",
        "\n",
        "url = \"https://surfdrive.surf.nl/files/index.php/s/mZrXMDlQ1Z1LvTn/download\"\n",
        "\n",
        "download_and_unzip(url, extract_to='.')"
      ]
    },
    {
      "cell_type": "markdown",
      "metadata": {
        "id": "BQHwqXaV5eTe"
      },
      "source": [
        "## **Feature matrices preparation**\n"
      ]
    },
    {
      "cell_type": "markdown",
      "metadata": {
        "id": "8HSFMjPtd-G-"
      },
      "source": [
        "### **Load molecular descriptors (features) - training and test datasets**"
      ]
    },
    {
      "cell_type": "code",
      "execution_count": 5,
      "metadata": {
        "id": "-DkYKw0yLmjL"
      },
      "outputs": [],
      "source": [
        "# Load gene expression and sampleinfo data \n",
        "gxData_cpm = pd.read_table(\"MAGNET_GeneExpressionData_CPM_19112020.txt\", index_col=0)\n",
        "\n",
        "sampleInfo = pd.read_csv(\"MAGNET_SampleData_18112022.csv\")"
      ]
    },
    {
      "cell_type": "code",
      "source": [
        "list_all_genes = pd.DataFrame(gxData_cpm.index)"
      ],
      "metadata": {
        "id": "fL2qgdPYMFdS"
      },
      "execution_count": 6,
      "outputs": []
    },
    {
      "cell_type": "code",
      "source": [
        "list_all_genes.to_csv(\"List_all_genes.csv\", index= False)"
      ],
      "metadata": {
        "id": "VxsF08pHMQYv"
      },
      "execution_count": 7,
      "outputs": []
    },
    {
      "cell_type": "code",
      "source": [
        "# Transpose the gx dataframe\n",
        "gxData_cpm = gxData_cpm.transpose()\n",
        "\n",
        "# Create a new column with index values \n",
        "gxData_cpm = gxData_cpm.rename_axis('sample_name').reset_index()\n",
        "\n",
        "# Rename the index name\n",
        "gxData_cpm = gxData_cpm.rename_axis(None, axis=1)"
      ],
      "metadata": {
        "id": "fddqwDY69xTj"
      },
      "execution_count": 8,
      "outputs": []
    },
    {
      "cell_type": "code",
      "source": [
        "# Get a df with the etiology and sample name columns \n",
        "columns = [\"etiology\", \"sample_name\"]\n",
        "\n",
        "etiology = sampleInfo[columns]"
      ],
      "metadata": {
        "id": "Wjr7PTapF9IE"
      },
      "execution_count": 9,
      "outputs": []
    },
    {
      "cell_type": "code",
      "source": [
        "# Join the etiology and gx dataframes\n",
        "gxData_cpm_labeled = pd.merge(gxData_cpm, etiology, on='sample_name', how='inner')"
      ],
      "metadata": {
        "id": "psfJU_KUF9SI"
      },
      "execution_count": 10,
      "outputs": []
    },
    {
      "cell_type": "code",
      "source": [
        "# Prin the number of samples per etiology\n",
        "gxData_cpm_labeled[\"etiology\"].value_counts()"
      ],
      "metadata": {
        "colab": {
          "base_uri": "https://localhost:8080/"
        },
        "id": "fTo2PxW9ID8U",
        "outputId": "ab619b78-3b44-4e03-d90d-6ec57ddb636a"
      },
      "execution_count": 11,
      "outputs": [
        {
          "output_type": "execute_result",
          "data": {
            "text/plain": [
              "NF      166\n",
              "DCM     166\n",
              "HCM      28\n",
              "PPCM      6\n",
              "Name: etiology, dtype: int64"
            ]
          },
          "metadata": {},
          "execution_count": 11
        }
      ]
    },
    {
      "cell_type": "code",
      "source": [
        "gxData_cpm_labeled"
      ],
      "metadata": {
        "colab": {
          "base_uri": "https://localhost:8080/",
          "height": 552
        },
        "id": "CsSScl25AxWM",
        "outputId": "ca9d21c1-142d-4907-8aa0-774ea7a848d3"
      },
      "execution_count": 12,
      "outputs": [
        {
          "output_type": "execute_result",
          "data": {
            "text/plain": [
              "    sample_name  ENSG00000000003  ENSG00000000005  ENSG00000000419  \\\n",
              "0        C00039            11.52             4.14            13.25   \n",
              "1        C00055            11.56             6.00            13.43   \n",
              "2        C00074             9.71             4.26            13.33   \n",
              "3        C00085            11.82             6.91            13.37   \n",
              "4        C00105            11.84             7.27            13.28   \n",
              "..          ...              ...              ...              ...   \n",
              "361      P01631            10.94            10.76            13.47   \n",
              "362      P01634            12.05             9.67            13.79   \n",
              "363      P01635            11.90             6.55            13.58   \n",
              "364      P01639            11.61             9.83            13.93   \n",
              "365      P01640            11.52             9.66            13.23   \n",
              "\n",
              "     ENSG00000000457  ENSG00000000460  ENSG00000000938  ENSG00000000971  \\\n",
              "0              11.61             9.68            11.10            14.39   \n",
              "1              11.86             9.37            10.07            14.11   \n",
              "2              11.23             9.01            13.87            12.80   \n",
              "3              11.94             9.70            11.80            14.51   \n",
              "4              11.64             9.25            11.55            14.89   \n",
              "..               ...              ...              ...              ...   \n",
              "361            10.94             8.65            10.89            14.49   \n",
              "362            11.37             8.92            10.87            14.89   \n",
              "363            11.96            10.25            11.29            14.84   \n",
              "364            11.68             9.17            10.18            14.29   \n",
              "365            10.81             8.92            10.42            14.34   \n",
              "\n",
              "     ENSG00000001036  ENSG00000001084  ...  ENSG00000273477  ENSG00000273483  \\\n",
              "0              13.40            13.23  ...             9.23             6.95   \n",
              "1              13.70            13.14  ...             8.93             5.73   \n",
              "2              13.68            13.45  ...             6.92             6.37   \n",
              "3              13.51            13.52  ...             9.35             6.64   \n",
              "4              13.90            13.14  ...             9.53             4.73   \n",
              "..               ...              ...  ...              ...              ...   \n",
              "361            13.74            12.56  ...             8.65             7.15   \n",
              "362            13.54            13.48  ...             9.02             3.59   \n",
              "363            13.44            13.50  ...             9.78             5.48   \n",
              "364            13.57            13.34  ...             9.49             6.16   \n",
              "365            13.77            12.68  ...             9.12             7.51   \n",
              "\n",
              "     ENSG00000273485  ENSG00000273486  ENSG00000273487  ENSG00000273488  \\\n",
              "0               3.40             8.78             8.69             4.99   \n",
              "1               5.18             8.96             8.02             5.18   \n",
              "2               5.48             6.58             4.26             5.84   \n",
              "3               5.48             8.98             7.85             4.59   \n",
              "4               5.87             8.88             7.16             4.73   \n",
              "..               ...              ...              ...              ...   \n",
              "361             5.96             8.57             8.84             4.83   \n",
              "362             3.59             9.28             6.76             4.33   \n",
              "363             4.34             9.93             8.56             5.72   \n",
              "364             5.77             9.68             8.48             4.39   \n",
              "365             6.47             8.89             9.10             5.55   \n",
              "\n",
              "     ENSG00000273489  ENSG00000273492  ENSG00000273493  etiology  \n",
              "0               9.56             8.76             5.28        NF  \n",
              "1               7.75             8.25             4.65        NF  \n",
              "2               9.57             5.00             5.00        NF  \n",
              "3               8.29             6.18             5.48        NF  \n",
              "4               7.27             7.16             3.99        NF  \n",
              "..               ...              ...              ...       ...  \n",
              "361             7.26             7.36             6.21       HCM  \n",
              "362             7.36             8.54             4.81       DCM  \n",
              "363             8.25             8.56             3.61        NF  \n",
              "364             8.00             8.64             5.53       DCM  \n",
              "365             6.63             8.61             7.34       DCM  \n",
              "\n",
              "[366 rows x 20783 columns]"
            ],
            "text/html": [
              "\n",
              "  <div id=\"df-460e8290-e2b8-4757-bdc2-7e951dbc959a\">\n",
              "    <div class=\"colab-df-container\">\n",
              "      <div>\n",
              "<style scoped>\n",
              "    .dataframe tbody tr th:only-of-type {\n",
              "        vertical-align: middle;\n",
              "    }\n",
              "\n",
              "    .dataframe tbody tr th {\n",
              "        vertical-align: top;\n",
              "    }\n",
              "\n",
              "    .dataframe thead th {\n",
              "        text-align: right;\n",
              "    }\n",
              "</style>\n",
              "<table border=\"1\" class=\"dataframe\">\n",
              "  <thead>\n",
              "    <tr style=\"text-align: right;\">\n",
              "      <th></th>\n",
              "      <th>sample_name</th>\n",
              "      <th>ENSG00000000003</th>\n",
              "      <th>ENSG00000000005</th>\n",
              "      <th>ENSG00000000419</th>\n",
              "      <th>ENSG00000000457</th>\n",
              "      <th>ENSG00000000460</th>\n",
              "      <th>ENSG00000000938</th>\n",
              "      <th>ENSG00000000971</th>\n",
              "      <th>ENSG00000001036</th>\n",
              "      <th>ENSG00000001084</th>\n",
              "      <th>...</th>\n",
              "      <th>ENSG00000273477</th>\n",
              "      <th>ENSG00000273483</th>\n",
              "      <th>ENSG00000273485</th>\n",
              "      <th>ENSG00000273486</th>\n",
              "      <th>ENSG00000273487</th>\n",
              "      <th>ENSG00000273488</th>\n",
              "      <th>ENSG00000273489</th>\n",
              "      <th>ENSG00000273492</th>\n",
              "      <th>ENSG00000273493</th>\n",
              "      <th>etiology</th>\n",
              "    </tr>\n",
              "  </thead>\n",
              "  <tbody>\n",
              "    <tr>\n",
              "      <th>0</th>\n",
              "      <td>C00039</td>\n",
              "      <td>11.52</td>\n",
              "      <td>4.14</td>\n",
              "      <td>13.25</td>\n",
              "      <td>11.61</td>\n",
              "      <td>9.68</td>\n",
              "      <td>11.10</td>\n",
              "      <td>14.39</td>\n",
              "      <td>13.40</td>\n",
              "      <td>13.23</td>\n",
              "      <td>...</td>\n",
              "      <td>9.23</td>\n",
              "      <td>6.95</td>\n",
              "      <td>3.40</td>\n",
              "      <td>8.78</td>\n",
              "      <td>8.69</td>\n",
              "      <td>4.99</td>\n",
              "      <td>9.56</td>\n",
              "      <td>8.76</td>\n",
              "      <td>5.28</td>\n",
              "      <td>NF</td>\n",
              "    </tr>\n",
              "    <tr>\n",
              "      <th>1</th>\n",
              "      <td>C00055</td>\n",
              "      <td>11.56</td>\n",
              "      <td>6.00</td>\n",
              "      <td>13.43</td>\n",
              "      <td>11.86</td>\n",
              "      <td>9.37</td>\n",
              "      <td>10.07</td>\n",
              "      <td>14.11</td>\n",
              "      <td>13.70</td>\n",
              "      <td>13.14</td>\n",
              "      <td>...</td>\n",
              "      <td>8.93</td>\n",
              "      <td>5.73</td>\n",
              "      <td>5.18</td>\n",
              "      <td>8.96</td>\n",
              "      <td>8.02</td>\n",
              "      <td>5.18</td>\n",
              "      <td>7.75</td>\n",
              "      <td>8.25</td>\n",
              "      <td>4.65</td>\n",
              "      <td>NF</td>\n",
              "    </tr>\n",
              "    <tr>\n",
              "      <th>2</th>\n",
              "      <td>C00074</td>\n",
              "      <td>9.71</td>\n",
              "      <td>4.26</td>\n",
              "      <td>13.33</td>\n",
              "      <td>11.23</td>\n",
              "      <td>9.01</td>\n",
              "      <td>13.87</td>\n",
              "      <td>12.80</td>\n",
              "      <td>13.68</td>\n",
              "      <td>13.45</td>\n",
              "      <td>...</td>\n",
              "      <td>6.92</td>\n",
              "      <td>6.37</td>\n",
              "      <td>5.48</td>\n",
              "      <td>6.58</td>\n",
              "      <td>4.26</td>\n",
              "      <td>5.84</td>\n",
              "      <td>9.57</td>\n",
              "      <td>5.00</td>\n",
              "      <td>5.00</td>\n",
              "      <td>NF</td>\n",
              "    </tr>\n",
              "    <tr>\n",
              "      <th>3</th>\n",
              "      <td>C00085</td>\n",
              "      <td>11.82</td>\n",
              "      <td>6.91</td>\n",
              "      <td>13.37</td>\n",
              "      <td>11.94</td>\n",
              "      <td>9.70</td>\n",
              "      <td>11.80</td>\n",
              "      <td>14.51</td>\n",
              "      <td>13.51</td>\n",
              "      <td>13.52</td>\n",
              "      <td>...</td>\n",
              "      <td>9.35</td>\n",
              "      <td>6.64</td>\n",
              "      <td>5.48</td>\n",
              "      <td>8.98</td>\n",
              "      <td>7.85</td>\n",
              "      <td>4.59</td>\n",
              "      <td>8.29</td>\n",
              "      <td>6.18</td>\n",
              "      <td>5.48</td>\n",
              "      <td>NF</td>\n",
              "    </tr>\n",
              "    <tr>\n",
              "      <th>4</th>\n",
              "      <td>C00105</td>\n",
              "      <td>11.84</td>\n",
              "      <td>7.27</td>\n",
              "      <td>13.28</td>\n",
              "      <td>11.64</td>\n",
              "      <td>9.25</td>\n",
              "      <td>11.55</td>\n",
              "      <td>14.89</td>\n",
              "      <td>13.90</td>\n",
              "      <td>13.14</td>\n",
              "      <td>...</td>\n",
              "      <td>9.53</td>\n",
              "      <td>4.73</td>\n",
              "      <td>5.87</td>\n",
              "      <td>8.88</td>\n",
              "      <td>7.16</td>\n",
              "      <td>4.73</td>\n",
              "      <td>7.27</td>\n",
              "      <td>7.16</td>\n",
              "      <td>3.99</td>\n",
              "      <td>NF</td>\n",
              "    </tr>\n",
              "    <tr>\n",
              "      <th>...</th>\n",
              "      <td>...</td>\n",
              "      <td>...</td>\n",
              "      <td>...</td>\n",
              "      <td>...</td>\n",
              "      <td>...</td>\n",
              "      <td>...</td>\n",
              "      <td>...</td>\n",
              "      <td>...</td>\n",
              "      <td>...</td>\n",
              "      <td>...</td>\n",
              "      <td>...</td>\n",
              "      <td>...</td>\n",
              "      <td>...</td>\n",
              "      <td>...</td>\n",
              "      <td>...</td>\n",
              "      <td>...</td>\n",
              "      <td>...</td>\n",
              "      <td>...</td>\n",
              "      <td>...</td>\n",
              "      <td>...</td>\n",
              "      <td>...</td>\n",
              "    </tr>\n",
              "    <tr>\n",
              "      <th>361</th>\n",
              "      <td>P01631</td>\n",
              "      <td>10.94</td>\n",
              "      <td>10.76</td>\n",
              "      <td>13.47</td>\n",
              "      <td>10.94</td>\n",
              "      <td>8.65</td>\n",
              "      <td>10.89</td>\n",
              "      <td>14.49</td>\n",
              "      <td>13.74</td>\n",
              "      <td>12.56</td>\n",
              "      <td>...</td>\n",
              "      <td>8.65</td>\n",
              "      <td>7.15</td>\n",
              "      <td>5.96</td>\n",
              "      <td>8.57</td>\n",
              "      <td>8.84</td>\n",
              "      <td>4.83</td>\n",
              "      <td>7.26</td>\n",
              "      <td>7.36</td>\n",
              "      <td>6.21</td>\n",
              "      <td>HCM</td>\n",
              "    </tr>\n",
              "    <tr>\n",
              "      <th>362</th>\n",
              "      <td>P01634</td>\n",
              "      <td>12.05</td>\n",
              "      <td>9.67</td>\n",
              "      <td>13.79</td>\n",
              "      <td>11.37</td>\n",
              "      <td>8.92</td>\n",
              "      <td>10.87</td>\n",
              "      <td>14.89</td>\n",
              "      <td>13.54</td>\n",
              "      <td>13.48</td>\n",
              "      <td>...</td>\n",
              "      <td>9.02</td>\n",
              "      <td>3.59</td>\n",
              "      <td>3.59</td>\n",
              "      <td>9.28</td>\n",
              "      <td>6.76</td>\n",
              "      <td>4.33</td>\n",
              "      <td>7.36</td>\n",
              "      <td>8.54</td>\n",
              "      <td>4.81</td>\n",
              "      <td>DCM</td>\n",
              "    </tr>\n",
              "    <tr>\n",
              "      <th>363</th>\n",
              "      <td>P01635</td>\n",
              "      <td>11.90</td>\n",
              "      <td>6.55</td>\n",
              "      <td>13.58</td>\n",
              "      <td>11.96</td>\n",
              "      <td>10.25</td>\n",
              "      <td>11.29</td>\n",
              "      <td>14.84</td>\n",
              "      <td>13.44</td>\n",
              "      <td>13.50</td>\n",
              "      <td>...</td>\n",
              "      <td>9.78</td>\n",
              "      <td>5.48</td>\n",
              "      <td>4.34</td>\n",
              "      <td>9.93</td>\n",
              "      <td>8.56</td>\n",
              "      <td>5.72</td>\n",
              "      <td>8.25</td>\n",
              "      <td>8.56</td>\n",
              "      <td>3.61</td>\n",
              "      <td>NF</td>\n",
              "    </tr>\n",
              "    <tr>\n",
              "      <th>364</th>\n",
              "      <td>P01639</td>\n",
              "      <td>11.61</td>\n",
              "      <td>9.83</td>\n",
              "      <td>13.93</td>\n",
              "      <td>11.68</td>\n",
              "      <td>9.17</td>\n",
              "      <td>10.18</td>\n",
              "      <td>14.29</td>\n",
              "      <td>13.57</td>\n",
              "      <td>13.34</td>\n",
              "      <td>...</td>\n",
              "      <td>9.49</td>\n",
              "      <td>6.16</td>\n",
              "      <td>5.77</td>\n",
              "      <td>9.68</td>\n",
              "      <td>8.48</td>\n",
              "      <td>4.39</td>\n",
              "      <td>8.00</td>\n",
              "      <td>8.64</td>\n",
              "      <td>5.53</td>\n",
              "      <td>DCM</td>\n",
              "    </tr>\n",
              "    <tr>\n",
              "      <th>365</th>\n",
              "      <td>P01640</td>\n",
              "      <td>11.52</td>\n",
              "      <td>9.66</td>\n",
              "      <td>13.23</td>\n",
              "      <td>10.81</td>\n",
              "      <td>8.92</td>\n",
              "      <td>10.42</td>\n",
              "      <td>14.34</td>\n",
              "      <td>13.77</td>\n",
              "      <td>12.68</td>\n",
              "      <td>...</td>\n",
              "      <td>9.12</td>\n",
              "      <td>7.51</td>\n",
              "      <td>6.47</td>\n",
              "      <td>8.89</td>\n",
              "      <td>9.10</td>\n",
              "      <td>5.55</td>\n",
              "      <td>6.63</td>\n",
              "      <td>8.61</td>\n",
              "      <td>7.34</td>\n",
              "      <td>DCM</td>\n",
              "    </tr>\n",
              "  </tbody>\n",
              "</table>\n",
              "<p>366 rows × 20783 columns</p>\n",
              "</div>\n",
              "      <button class=\"colab-df-convert\" onclick=\"convertToInteractive('df-460e8290-e2b8-4757-bdc2-7e951dbc959a')\"\n",
              "              title=\"Convert this dataframe to an interactive table.\"\n",
              "              style=\"display:none;\">\n",
              "        \n",
              "  <svg xmlns=\"http://www.w3.org/2000/svg\" height=\"24px\"viewBox=\"0 0 24 24\"\n",
              "       width=\"24px\">\n",
              "    <path d=\"M0 0h24v24H0V0z\" fill=\"none\"/>\n",
              "    <path d=\"M18.56 5.44l.94 2.06.94-2.06 2.06-.94-2.06-.94-.94-2.06-.94 2.06-2.06.94zm-11 1L8.5 8.5l.94-2.06 2.06-.94-2.06-.94L8.5 2.5l-.94 2.06-2.06.94zm10 10l.94 2.06.94-2.06 2.06-.94-2.06-.94-.94-2.06-.94 2.06-2.06.94z\"/><path d=\"M17.41 7.96l-1.37-1.37c-.4-.4-.92-.59-1.43-.59-.52 0-1.04.2-1.43.59L10.3 9.45l-7.72 7.72c-.78.78-.78 2.05 0 2.83L4 21.41c.39.39.9.59 1.41.59.51 0 1.02-.2 1.41-.59l7.78-7.78 2.81-2.81c.8-.78.8-2.07 0-2.86zM5.41 20L4 18.59l7.72-7.72 1.47 1.35L5.41 20z\"/>\n",
              "  </svg>\n",
              "      </button>\n",
              "      \n",
              "  <style>\n",
              "    .colab-df-container {\n",
              "      display:flex;\n",
              "      flex-wrap:wrap;\n",
              "      gap: 12px;\n",
              "    }\n",
              "\n",
              "    .colab-df-convert {\n",
              "      background-color: #E8F0FE;\n",
              "      border: none;\n",
              "      border-radius: 50%;\n",
              "      cursor: pointer;\n",
              "      display: none;\n",
              "      fill: #1967D2;\n",
              "      height: 32px;\n",
              "      padding: 0 0 0 0;\n",
              "      width: 32px;\n",
              "    }\n",
              "\n",
              "    .colab-df-convert:hover {\n",
              "      background-color: #E2EBFA;\n",
              "      box-shadow: 0px 1px 2px rgba(60, 64, 67, 0.3), 0px 1px 3px 1px rgba(60, 64, 67, 0.15);\n",
              "      fill: #174EA6;\n",
              "    }\n",
              "\n",
              "    [theme=dark] .colab-df-convert {\n",
              "      background-color: #3B4455;\n",
              "      fill: #D2E3FC;\n",
              "    }\n",
              "\n",
              "    [theme=dark] .colab-df-convert:hover {\n",
              "      background-color: #434B5C;\n",
              "      box-shadow: 0px 1px 3px 1px rgba(0, 0, 0, 0.15);\n",
              "      filter: drop-shadow(0px 1px 2px rgba(0, 0, 0, 0.3));\n",
              "      fill: #FFFFFF;\n",
              "    }\n",
              "  </style>\n",
              "\n",
              "      <script>\n",
              "        const buttonEl =\n",
              "          document.querySelector('#df-460e8290-e2b8-4757-bdc2-7e951dbc959a button.colab-df-convert');\n",
              "        buttonEl.style.display =\n",
              "          google.colab.kernel.accessAllowed ? 'block' : 'none';\n",
              "\n",
              "        async function convertToInteractive(key) {\n",
              "          const element = document.querySelector('#df-460e8290-e2b8-4757-bdc2-7e951dbc959a');\n",
              "          const dataTable =\n",
              "            await google.colab.kernel.invokeFunction('convertToInteractive',\n",
              "                                                     [key], {});\n",
              "          if (!dataTable) return;\n",
              "\n",
              "          const docLinkHtml = 'Like what you see? Visit the ' +\n",
              "            '<a target=\"_blank\" href=https://colab.research.google.com/notebooks/data_table.ipynb>data table notebook</a>'\n",
              "            + ' to learn more about interactive tables.';\n",
              "          element.innerHTML = '';\n",
              "          dataTable['output_type'] = 'display_data';\n",
              "          await google.colab.output.renderOutput(dataTable, element);\n",
              "          const docLink = document.createElement('div');\n",
              "          docLink.innerHTML = docLinkHtml;\n",
              "          element.appendChild(docLink);\n",
              "        }\n",
              "      </script>\n",
              "    </div>\n",
              "  </div>\n",
              "  "
            ]
          },
          "metadata": {},
          "execution_count": 12
        }
      ]
    },
    {
      "cell_type": "code",
      "source": [
        "# Select the NF and DCM patients\n",
        "#gxData_cpm_lab_NFDCM = gxData_cpm_labeled[(gxData_cpm_labeled[\"etiology\"] == \"NF\") | \n",
        " #                                         (gxData_cpm_labeled[\"etiology\"] == \"DCM\")]"
      ],
      "metadata": {
        "id": "_iDBzqjoID-p"
      },
      "execution_count": 13,
      "outputs": []
    },
    {
      "cell_type": "code",
      "source": [
        "# Create the y label dataset\n",
        "y = pd.DataFrame(gxData_cpm_labeled['etiology'].copy())\n",
        "\n",
        "# Encoding the target class label\n",
        "# y = y.map({\"DCM\": 1, \"NF\": 0}).to_numpy()\n",
        "y = y.astype(str).apply(LabelEncoder().fit_transform)"
      ],
      "metadata": {
        "id": "UkHK2_iPKSux"
      },
      "execution_count": 14,
      "outputs": []
    },
    {
      "cell_type": "code",
      "source": [
        "# Create the feature matrix by deleting the y column and the sample name\n",
        "final_df_NF_alldisease = gxData_cpm_labeled.drop(['etiology', 'sample_name'], axis=1)\n",
        "X = final_df_NF_alldisease.to_numpy()"
      ],
      "metadata": {
        "id": "R51pwPQLLbtN"
      },
      "execution_count": 15,
      "outputs": []
    },
    {
      "cell_type": "markdown",
      "source": [
        "### **Load external dataset**"
      ],
      "metadata": {
        "id": "1P1kIThkHZ_G"
      }
    },
    {
      "cell_type": "code",
      "source": [
        "# Download GitHub repository\n",
        "!git clone https://github.com/sayalaruano/Project3Period-SysBioMaster.git"
      ],
      "metadata": {
        "colab": {
          "base_uri": "https://localhost:8080/"
        },
        "outputId": "ebc41e57-5397-48fa-f396-b2469a2e3038",
        "id": "_mTAkfhPHmRj"
      },
      "execution_count": 16,
      "outputs": [
        {
          "output_type": "stream",
          "name": "stdout",
          "text": [
            "Cloning into 'Project3Period-SysBioMaster'...\n",
            "remote: Enumerating objects: 148, done.\u001b[K\n",
            "remote: Counting objects: 100% (46/46), done.\u001b[K\n",
            "remote: Compressing objects: 100% (44/44), done.\u001b[K\n",
            "remote: Total 148 (delta 22), reused 9 (delta 2), pack-reused 102\u001b[K\n",
            "Receiving objects: 100% (148/148), 163.71 MiB | 18.99 MiB/s, done.\n",
            "Resolving deltas: 100% (58/58), done.\n"
          ]
        }
      ]
    },
    {
      "cell_type": "code",
      "source": [
        "# Load external dataset\n",
        "ext_gxData_cpm = pd.read_table(\"Project3Period-SysBioMaster/External_Data/CPM_Conversion/GSE55296_CPM.txt\")"
      ],
      "metadata": {
        "id": "kV4Oe0hQHmRm"
      },
      "execution_count": 19,
      "outputs": []
    },
    {
      "cell_type": "code",
      "source": [
        "ext_gxData_cpm"
      ],
      "metadata": {
        "colab": {
          "base_uri": "https://localhost:8080/",
          "height": 488
        },
        "id": "Wus32NCyVKeg",
        "outputId": "1b4458a3-ff81-4e07-9ab6-2427aaabd467"
      },
      "execution_count": 20,
      "outputs": [
        {
          "output_type": "execute_result",
          "data": {
            "text/plain": [
              "                 DCM   NF  NF.1  NF.2  NF.3  NF.4  DCM.1  NF.5  NF.6  DCM.2  \\\n",
              "ENSG00000000003 2.48 1.38  0.97  1.01  1.42  0.80   1.68  1.30  1.66   1.09   \n",
              "ENSG00000000005  NaN  NaN   NaN   NaN -3.44 -2.92  -1.74 -2.96  1.46  -2.13   \n",
              "ENSG00000000419 3.82 3.70  3.14  3.22  3.53  2.84   4.35  3.94  3.90   3.45   \n",
              "ENSG00000000457 0.71 1.09  2.62  1.37  1.59  0.60   2.00  2.12  2.23   1.41   \n",
              "ENSG00000000460 0.39 1.29  0.86  0.21  0.37 -1.46  -0.78 -0.14  0.67   0.24   \n",
              "...              ...  ...   ...   ...   ...   ...    ...   ...   ...    ...   \n",
              "ENSG00000267748  NaN  NaN   NaN   NaN   NaN   NaN    NaN   NaN   NaN    NaN   \n",
              "ENSG00000267757  NaN  NaN   NaN -2.64   NaN -2.92  -3.96   NaN -4.38    NaN   \n",
              "ENSG00000267772  NaN  NaN   NaN   NaN   NaN   NaN    NaN   NaN   NaN    NaN   \n",
              "ENSG00000267795  NaN  NaN   NaN   NaN   NaN   NaN    NaN   NaN   NaN    NaN   \n",
              "ENSG00000267796 0.20 0.71  1.44  0.53  0.83  1.14  -0.91  0.85  0.25   0.58   \n",
              "\n",
              "                 ...  NF.8  DCM.5  DCM.6  NF.9  DCM.7  DCM.8  DCM.9  DCM.10  \\\n",
              "ENSG00000000003  ...  2.02   1.29   0.72  1.06   1.86   1.47   1.17    1.12   \n",
              "ENSG00000000005  ... -2.65  -2.07    NaN -3.68   0.58  -2.05  -1.80     NaN   \n",
              "ENSG00000000419  ...  4.23   3.55   3.38  3.29   4.23   3.77   3.61    3.42   \n",
              "ENSG00000000457  ...  2.03   1.96   1.78  2.46   3.23   1.99   1.58    2.46   \n",
              "ENSG00000000460  ...  0.27   1.16   0.57  0.79  -0.40  -0.13   0.66    0.68   \n",
              "...              ...   ...    ...    ...   ...    ...    ...    ...     ...   \n",
              "ENSG00000267748  ...   NaN    NaN    NaN   NaN    NaN    NaN    NaN     NaN   \n",
              "ENSG00000267757  ...   NaN    NaN  -3.34   NaN    NaN    NaN    NaN     NaN   \n",
              "ENSG00000267772  ...   NaN    NaN    NaN   NaN    NaN    NaN    NaN     NaN   \n",
              "ENSG00000267795  ...   NaN    NaN    NaN   NaN    NaN    NaN    NaN     NaN   \n",
              "ENSG00000267796  ...  0.21   1.53  -0.27  0.79  -1.02   0.36   0.99    0.23   \n",
              "\n",
              "                 DCM.11  DCM.12  \n",
              "ENSG00000000003    1.96    0.18  \n",
              "ENSG00000000005     NaN   -2.60  \n",
              "ENSG00000000419    3.38    3.51  \n",
              "ENSG00000000457    2.32    1.98  \n",
              "ENSG00000000460   -0.99   -0.40  \n",
              "...                 ...     ...  \n",
              "ENSG00000267748     NaN     NaN  \n",
              "ENSG00000267757     NaN     NaN  \n",
              "ENSG00000267772     NaN     NaN  \n",
              "ENSG00000267795     NaN     NaN  \n",
              "ENSG00000267796    1.14    0.27  \n",
              "\n",
              "[20214 rows x 23 columns]"
            ],
            "text/html": [
              "\n",
              "  <div id=\"df-fa6fa2e6-e082-4d81-aaa6-bbf805c4718d\">\n",
              "    <div class=\"colab-df-container\">\n",
              "      <div>\n",
              "<style scoped>\n",
              "    .dataframe tbody tr th:only-of-type {\n",
              "        vertical-align: middle;\n",
              "    }\n",
              "\n",
              "    .dataframe tbody tr th {\n",
              "        vertical-align: top;\n",
              "    }\n",
              "\n",
              "    .dataframe thead th {\n",
              "        text-align: right;\n",
              "    }\n",
              "</style>\n",
              "<table border=\"1\" class=\"dataframe\">\n",
              "  <thead>\n",
              "    <tr style=\"text-align: right;\">\n",
              "      <th></th>\n",
              "      <th>DCM</th>\n",
              "      <th>NF</th>\n",
              "      <th>NF.1</th>\n",
              "      <th>NF.2</th>\n",
              "      <th>NF.3</th>\n",
              "      <th>NF.4</th>\n",
              "      <th>DCM.1</th>\n",
              "      <th>NF.5</th>\n",
              "      <th>NF.6</th>\n",
              "      <th>DCM.2</th>\n",
              "      <th>...</th>\n",
              "      <th>NF.8</th>\n",
              "      <th>DCM.5</th>\n",
              "      <th>DCM.6</th>\n",
              "      <th>NF.9</th>\n",
              "      <th>DCM.7</th>\n",
              "      <th>DCM.8</th>\n",
              "      <th>DCM.9</th>\n",
              "      <th>DCM.10</th>\n",
              "      <th>DCM.11</th>\n",
              "      <th>DCM.12</th>\n",
              "    </tr>\n",
              "  </thead>\n",
              "  <tbody>\n",
              "    <tr>\n",
              "      <th>ENSG00000000003</th>\n",
              "      <td>2.48</td>\n",
              "      <td>1.38</td>\n",
              "      <td>0.97</td>\n",
              "      <td>1.01</td>\n",
              "      <td>1.42</td>\n",
              "      <td>0.80</td>\n",
              "      <td>1.68</td>\n",
              "      <td>1.30</td>\n",
              "      <td>1.66</td>\n",
              "      <td>1.09</td>\n",
              "      <td>...</td>\n",
              "      <td>2.02</td>\n",
              "      <td>1.29</td>\n",
              "      <td>0.72</td>\n",
              "      <td>1.06</td>\n",
              "      <td>1.86</td>\n",
              "      <td>1.47</td>\n",
              "      <td>1.17</td>\n",
              "      <td>1.12</td>\n",
              "      <td>1.96</td>\n",
              "      <td>0.18</td>\n",
              "    </tr>\n",
              "    <tr>\n",
              "      <th>ENSG00000000005</th>\n",
              "      <td>NaN</td>\n",
              "      <td>NaN</td>\n",
              "      <td>NaN</td>\n",
              "      <td>NaN</td>\n",
              "      <td>-3.44</td>\n",
              "      <td>-2.92</td>\n",
              "      <td>-1.74</td>\n",
              "      <td>-2.96</td>\n",
              "      <td>1.46</td>\n",
              "      <td>-2.13</td>\n",
              "      <td>...</td>\n",
              "      <td>-2.65</td>\n",
              "      <td>-2.07</td>\n",
              "      <td>NaN</td>\n",
              "      <td>-3.68</td>\n",
              "      <td>0.58</td>\n",
              "      <td>-2.05</td>\n",
              "      <td>-1.80</td>\n",
              "      <td>NaN</td>\n",
              "      <td>NaN</td>\n",
              "      <td>-2.60</td>\n",
              "    </tr>\n",
              "    <tr>\n",
              "      <th>ENSG00000000419</th>\n",
              "      <td>3.82</td>\n",
              "      <td>3.70</td>\n",
              "      <td>3.14</td>\n",
              "      <td>3.22</td>\n",
              "      <td>3.53</td>\n",
              "      <td>2.84</td>\n",
              "      <td>4.35</td>\n",
              "      <td>3.94</td>\n",
              "      <td>3.90</td>\n",
              "      <td>3.45</td>\n",
              "      <td>...</td>\n",
              "      <td>4.23</td>\n",
              "      <td>3.55</td>\n",
              "      <td>3.38</td>\n",
              "      <td>3.29</td>\n",
              "      <td>4.23</td>\n",
              "      <td>3.77</td>\n",
              "      <td>3.61</td>\n",
              "      <td>3.42</td>\n",
              "      <td>3.38</td>\n",
              "      <td>3.51</td>\n",
              "    </tr>\n",
              "    <tr>\n",
              "      <th>ENSG00000000457</th>\n",
              "      <td>0.71</td>\n",
              "      <td>1.09</td>\n",
              "      <td>2.62</td>\n",
              "      <td>1.37</td>\n",
              "      <td>1.59</td>\n",
              "      <td>0.60</td>\n",
              "      <td>2.00</td>\n",
              "      <td>2.12</td>\n",
              "      <td>2.23</td>\n",
              "      <td>1.41</td>\n",
              "      <td>...</td>\n",
              "      <td>2.03</td>\n",
              "      <td>1.96</td>\n",
              "      <td>1.78</td>\n",
              "      <td>2.46</td>\n",
              "      <td>3.23</td>\n",
              "      <td>1.99</td>\n",
              "      <td>1.58</td>\n",
              "      <td>2.46</td>\n",
              "      <td>2.32</td>\n",
              "      <td>1.98</td>\n",
              "    </tr>\n",
              "    <tr>\n",
              "      <th>ENSG00000000460</th>\n",
              "      <td>0.39</td>\n",
              "      <td>1.29</td>\n",
              "      <td>0.86</td>\n",
              "      <td>0.21</td>\n",
              "      <td>0.37</td>\n",
              "      <td>-1.46</td>\n",
              "      <td>-0.78</td>\n",
              "      <td>-0.14</td>\n",
              "      <td>0.67</td>\n",
              "      <td>0.24</td>\n",
              "      <td>...</td>\n",
              "      <td>0.27</td>\n",
              "      <td>1.16</td>\n",
              "      <td>0.57</td>\n",
              "      <td>0.79</td>\n",
              "      <td>-0.40</td>\n",
              "      <td>-0.13</td>\n",
              "      <td>0.66</td>\n",
              "      <td>0.68</td>\n",
              "      <td>-0.99</td>\n",
              "      <td>-0.40</td>\n",
              "    </tr>\n",
              "    <tr>\n",
              "      <th>...</th>\n",
              "      <td>...</td>\n",
              "      <td>...</td>\n",
              "      <td>...</td>\n",
              "      <td>...</td>\n",
              "      <td>...</td>\n",
              "      <td>...</td>\n",
              "      <td>...</td>\n",
              "      <td>...</td>\n",
              "      <td>...</td>\n",
              "      <td>...</td>\n",
              "      <td>...</td>\n",
              "      <td>...</td>\n",
              "      <td>...</td>\n",
              "      <td>...</td>\n",
              "      <td>...</td>\n",
              "      <td>...</td>\n",
              "      <td>...</td>\n",
              "      <td>...</td>\n",
              "      <td>...</td>\n",
              "      <td>...</td>\n",
              "      <td>...</td>\n",
              "    </tr>\n",
              "    <tr>\n",
              "      <th>ENSG00000267748</th>\n",
              "      <td>NaN</td>\n",
              "      <td>NaN</td>\n",
              "      <td>NaN</td>\n",
              "      <td>NaN</td>\n",
              "      <td>NaN</td>\n",
              "      <td>NaN</td>\n",
              "      <td>NaN</td>\n",
              "      <td>NaN</td>\n",
              "      <td>NaN</td>\n",
              "      <td>NaN</td>\n",
              "      <td>...</td>\n",
              "      <td>NaN</td>\n",
              "      <td>NaN</td>\n",
              "      <td>NaN</td>\n",
              "      <td>NaN</td>\n",
              "      <td>NaN</td>\n",
              "      <td>NaN</td>\n",
              "      <td>NaN</td>\n",
              "      <td>NaN</td>\n",
              "      <td>NaN</td>\n",
              "      <td>NaN</td>\n",
              "    </tr>\n",
              "    <tr>\n",
              "      <th>ENSG00000267757</th>\n",
              "      <td>NaN</td>\n",
              "      <td>NaN</td>\n",
              "      <td>NaN</td>\n",
              "      <td>-2.64</td>\n",
              "      <td>NaN</td>\n",
              "      <td>-2.92</td>\n",
              "      <td>-3.96</td>\n",
              "      <td>NaN</td>\n",
              "      <td>-4.38</td>\n",
              "      <td>NaN</td>\n",
              "      <td>...</td>\n",
              "      <td>NaN</td>\n",
              "      <td>NaN</td>\n",
              "      <td>-3.34</td>\n",
              "      <td>NaN</td>\n",
              "      <td>NaN</td>\n",
              "      <td>NaN</td>\n",
              "      <td>NaN</td>\n",
              "      <td>NaN</td>\n",
              "      <td>NaN</td>\n",
              "      <td>NaN</td>\n",
              "    </tr>\n",
              "    <tr>\n",
              "      <th>ENSG00000267772</th>\n",
              "      <td>NaN</td>\n",
              "      <td>NaN</td>\n",
              "      <td>NaN</td>\n",
              "      <td>NaN</td>\n",
              "      <td>NaN</td>\n",
              "      <td>NaN</td>\n",
              "      <td>NaN</td>\n",
              "      <td>NaN</td>\n",
              "      <td>NaN</td>\n",
              "      <td>NaN</td>\n",
              "      <td>...</td>\n",
              "      <td>NaN</td>\n",
              "      <td>NaN</td>\n",
              "      <td>NaN</td>\n",
              "      <td>NaN</td>\n",
              "      <td>NaN</td>\n",
              "      <td>NaN</td>\n",
              "      <td>NaN</td>\n",
              "      <td>NaN</td>\n",
              "      <td>NaN</td>\n",
              "      <td>NaN</td>\n",
              "    </tr>\n",
              "    <tr>\n",
              "      <th>ENSG00000267795</th>\n",
              "      <td>NaN</td>\n",
              "      <td>NaN</td>\n",
              "      <td>NaN</td>\n",
              "      <td>NaN</td>\n",
              "      <td>NaN</td>\n",
              "      <td>NaN</td>\n",
              "      <td>NaN</td>\n",
              "      <td>NaN</td>\n",
              "      <td>NaN</td>\n",
              "      <td>NaN</td>\n",
              "      <td>...</td>\n",
              "      <td>NaN</td>\n",
              "      <td>NaN</td>\n",
              "      <td>NaN</td>\n",
              "      <td>NaN</td>\n",
              "      <td>NaN</td>\n",
              "      <td>NaN</td>\n",
              "      <td>NaN</td>\n",
              "      <td>NaN</td>\n",
              "      <td>NaN</td>\n",
              "      <td>NaN</td>\n",
              "    </tr>\n",
              "    <tr>\n",
              "      <th>ENSG00000267796</th>\n",
              "      <td>0.20</td>\n",
              "      <td>0.71</td>\n",
              "      <td>1.44</td>\n",
              "      <td>0.53</td>\n",
              "      <td>0.83</td>\n",
              "      <td>1.14</td>\n",
              "      <td>-0.91</td>\n",
              "      <td>0.85</td>\n",
              "      <td>0.25</td>\n",
              "      <td>0.58</td>\n",
              "      <td>...</td>\n",
              "      <td>0.21</td>\n",
              "      <td>1.53</td>\n",
              "      <td>-0.27</td>\n",
              "      <td>0.79</td>\n",
              "      <td>-1.02</td>\n",
              "      <td>0.36</td>\n",
              "      <td>0.99</td>\n",
              "      <td>0.23</td>\n",
              "      <td>1.14</td>\n",
              "      <td>0.27</td>\n",
              "    </tr>\n",
              "  </tbody>\n",
              "</table>\n",
              "<p>20214 rows × 23 columns</p>\n",
              "</div>\n",
              "      <button class=\"colab-df-convert\" onclick=\"convertToInteractive('df-fa6fa2e6-e082-4d81-aaa6-bbf805c4718d')\"\n",
              "              title=\"Convert this dataframe to an interactive table.\"\n",
              "              style=\"display:none;\">\n",
              "        \n",
              "  <svg xmlns=\"http://www.w3.org/2000/svg\" height=\"24px\"viewBox=\"0 0 24 24\"\n",
              "       width=\"24px\">\n",
              "    <path d=\"M0 0h24v24H0V0z\" fill=\"none\"/>\n",
              "    <path d=\"M18.56 5.44l.94 2.06.94-2.06 2.06-.94-2.06-.94-.94-2.06-.94 2.06-2.06.94zm-11 1L8.5 8.5l.94-2.06 2.06-.94-2.06-.94L8.5 2.5l-.94 2.06-2.06.94zm10 10l.94 2.06.94-2.06 2.06-.94-2.06-.94-.94-2.06-.94 2.06-2.06.94z\"/><path d=\"M17.41 7.96l-1.37-1.37c-.4-.4-.92-.59-1.43-.59-.52 0-1.04.2-1.43.59L10.3 9.45l-7.72 7.72c-.78.78-.78 2.05 0 2.83L4 21.41c.39.39.9.59 1.41.59.51 0 1.02-.2 1.41-.59l7.78-7.78 2.81-2.81c.8-.78.8-2.07 0-2.86zM5.41 20L4 18.59l7.72-7.72 1.47 1.35L5.41 20z\"/>\n",
              "  </svg>\n",
              "      </button>\n",
              "      \n",
              "  <style>\n",
              "    .colab-df-container {\n",
              "      display:flex;\n",
              "      flex-wrap:wrap;\n",
              "      gap: 12px;\n",
              "    }\n",
              "\n",
              "    .colab-df-convert {\n",
              "      background-color: #E8F0FE;\n",
              "      border: none;\n",
              "      border-radius: 50%;\n",
              "      cursor: pointer;\n",
              "      display: none;\n",
              "      fill: #1967D2;\n",
              "      height: 32px;\n",
              "      padding: 0 0 0 0;\n",
              "      width: 32px;\n",
              "    }\n",
              "\n",
              "    .colab-df-convert:hover {\n",
              "      background-color: #E2EBFA;\n",
              "      box-shadow: 0px 1px 2px rgba(60, 64, 67, 0.3), 0px 1px 3px 1px rgba(60, 64, 67, 0.15);\n",
              "      fill: #174EA6;\n",
              "    }\n",
              "\n",
              "    [theme=dark] .colab-df-convert {\n",
              "      background-color: #3B4455;\n",
              "      fill: #D2E3FC;\n",
              "    }\n",
              "\n",
              "    [theme=dark] .colab-df-convert:hover {\n",
              "      background-color: #434B5C;\n",
              "      box-shadow: 0px 1px 3px 1px rgba(0, 0, 0, 0.15);\n",
              "      filter: drop-shadow(0px 1px 2px rgba(0, 0, 0, 0.3));\n",
              "      fill: #FFFFFF;\n",
              "    }\n",
              "  </style>\n",
              "\n",
              "      <script>\n",
              "        const buttonEl =\n",
              "          document.querySelector('#df-fa6fa2e6-e082-4d81-aaa6-bbf805c4718d button.colab-df-convert');\n",
              "        buttonEl.style.display =\n",
              "          google.colab.kernel.accessAllowed ? 'block' : 'none';\n",
              "\n",
              "        async function convertToInteractive(key) {\n",
              "          const element = document.querySelector('#df-fa6fa2e6-e082-4d81-aaa6-bbf805c4718d');\n",
              "          const dataTable =\n",
              "            await google.colab.kernel.invokeFunction('convertToInteractive',\n",
              "                                                     [key], {});\n",
              "          if (!dataTable) return;\n",
              "\n",
              "          const docLinkHtml = 'Like what you see? Visit the ' +\n",
              "            '<a target=\"_blank\" href=https://colab.research.google.com/notebooks/data_table.ipynb>data table notebook</a>'\n",
              "            + ' to learn more about interactive tables.';\n",
              "          element.innerHTML = '';\n",
              "          dataTable['output_type'] = 'display_data';\n",
              "          await google.colab.output.renderOutput(dataTable, element);\n",
              "          const docLink = document.createElement('div');\n",
              "          docLink.innerHTML = docLinkHtml;\n",
              "          element.appendChild(docLink);\n",
              "        }\n",
              "      </script>\n",
              "    </div>\n",
              "  </div>\n",
              "  "
            ]
          },
          "metadata": {},
          "execution_count": 20
        }
      ]
    },
    {
      "cell_type": "code",
      "source": [
        "# Get list of columns with DCM and NF patients\n",
        "filter_col1 = [col for col in ext_gxData_cpm if col.startswith('DCM')]\n",
        "filter_col2 = [col for col in ext_gxData_cpm if col.startswith('NF')]\n",
        "filter_cols = filter_col1 + filter_col2\n",
        "\n",
        "# Filter the DCM and NF columns\n",
        "ext_gxData_cpm = ext_gxData_cpm[filter_cols]"
      ],
      "metadata": {
        "id": "Gr4gww7oHmRp"
      },
      "execution_count": null,
      "outputs": []
    },
    {
      "cell_type": "code",
      "source": [
        "ext_gxData_cpm.info()"
      ],
      "metadata": {
        "id": "HOmA3_8wJilO"
      },
      "execution_count": null,
      "outputs": []
    },
    {
      "cell_type": "code",
      "source": [
        "# Replace NANs by 0s\n",
        "ext_gxData_cpm.fillna(0, inplace=True)"
      ],
      "metadata": {
        "id": "fJKFEApcHmRq"
      },
      "execution_count": null,
      "outputs": []
    },
    {
      "cell_type": "code",
      "source": [
        "# Transpose the gx dataframe\n",
        "ext_gxData_cpm = ext_gxData_cpm.transpose()\n",
        "\n",
        "# Create a new column with index values \n",
        "ext_gxData_cpm = ext_gxData_cpm.rename_axis('etiology').reset_index()\n",
        "\n",
        "# Rename the index name\n",
        "ext_gxData_cpm = ext_gxData_cpm.rename_axis(None, axis=1)\n",
        "\n",
        "# Remove numbers of etiology rows\n",
        "ext_gxData_cpm = ext_gxData_cpm.apply(lambda x: x.replace({'DCM.*':'DCM', 'NF.*':'NF'}, regex=True))"
      ],
      "metadata": {
        "id": "YDbnSS5EHmRq"
      },
      "execution_count": null,
      "outputs": []
    },
    {
      "cell_type": "code",
      "source": [
        "# Create the y label dataset\n",
        "y_ext = ext_gxData_cpm['etiology'].copy()\n",
        "\n",
        "# Encoding the target class label\n",
        "y_ext = y_ext.map({\"DCM\": 1, \"NF\": 0}).to_numpy()"
      ],
      "metadata": {
        "id": "RcuzhuP8HmRr"
      },
      "execution_count": null,
      "outputs": []
    },
    {
      "cell_type": "code",
      "source": [
        "# Create the feature matrix by deleting the y column\n",
        "final_df_NFDCM_ext = ext_gxData_cpm.drop(['etiology'], axis=1)\n",
        "X_ext = final_df_NFDCM_ext.to_numpy()"
      ],
      "metadata": {
        "id": "9W_2cL3oHmRr"
      },
      "execution_count": null,
      "outputs": []
    },
    {
      "cell_type": "markdown",
      "metadata": {
        "id": "H9MRC7xR8eJi"
      },
      "source": [
        "## **Exploratory Data Analysis**"
      ]
    },
    {
      "cell_type": "markdown",
      "metadata": {
        "id": "r6rVorK_rVnt"
      },
      "source": [
        "### **Target variable**"
      ]
    },
    {
      "cell_type": "code",
      "execution_count": null,
      "metadata": {
        "id": "bByC_71PtrBN"
      },
      "outputs": [],
      "source": [
        "# Bar plot of active and inactive AMPs\n",
        "\n",
        "# Data\n",
        "n_healthy = (final_df_NF_alldisease[\"etiology\"] == \"NF\").sum()\n",
        "n_DCM = (final_df_NF_alldisease[\"etiology\"] == \"DCM\").sum()\n",
        "n_HCM = (final_df_NF_alldisease[\"etiology\"] == \"HCM\").sum()\n",
        "n_PPCM = (final_df_NF_alldisease[\"etiology\"] == \"PPCM\").sum()\n",
        "\n",
        "\n",
        "x_label = ['Healthy', 'DCM', 'HCM', 'PPCM']\n",
        "y_label = [n_healthy, n_DCM, n_HCM, n_PPCM]\n",
        "\n",
        "# Setup plot\n",
        "fig, ax = plt.subplots()\n",
        "\n",
        "# Make bar plot\n",
        "p = ax.bar(x_label, y_label, color = ['#F8766D', '#00BFC4', 'red', 'green'], ec = 'black')\n",
        "\n",
        "ax.set_title('Disease status of samples', fontsize=14, fontweight='bold', pad=15)\n",
        "\n",
        "ax.set_ylim(0,200)\n",
        "plt.xticks(fontsize=14)\n",
        "plt.yticks(fontsize=14)\n",
        "\n",
        "plt.show()"
      ]
    },
    {
      "cell_type": "markdown",
      "metadata": {
        "id": "RewWucDQbTo3"
      },
      "source": [
        "## **Machine learning models**\n",
        "First, we tested more than 30 ML binary classifiers using the [LazyPredict](https://github.com/shankarpandala/lazypredict) Python library. We chose the best model evaluating some performance metrics (e.g., accuracy, ROC AUC, F1 score, and Matthews Correlation Coefficient) on the test dataset. "
      ]
    },
    {
      "cell_type": "code",
      "execution_count": 21,
      "metadata": {
        "id": "01B14Lz2bdMn"
      },
      "outputs": [],
      "source": [
        "# Run the ML classifiers with LazyPredict     \n",
        "# Data splitting\n",
        "X_train, X_test, y_train, y_test = train_test_split(X, y, test_size=0.2, \n",
        "                                                    random_state =42, \n",
        "                                                    stratify=y)"
      ]
    },
    {
      "cell_type": "code",
      "source": [
        "# Define and build the Lazyclassifier\n",
        "clf = LazyClassifier(verbose=0,ignore_warnings=True, custom_metric=matthews_corrcoef)\n",
        "\n",
        "models, predictions = clf.fit(X_train, X_test, y_train, y_test)"
      ],
      "metadata": {
        "colab": {
          "base_uri": "https://localhost:8080/"
        },
        "id": "jLk29ISs6eow",
        "outputId": "e75c018b-46da-4ee3-be3f-7dc729a0f784"
      },
      "execution_count": 22,
      "outputs": [
        {
          "output_type": "stream",
          "name": "stderr",
          "text": [
            "100%|██████████| 29/29 [06:58<00:00, 14.45s/it]\n"
          ]
        }
      ]
    },
    {
      "cell_type": "code",
      "source": [
        "models"
      ],
      "metadata": {
        "colab": {
          "base_uri": "https://localhost:8080/",
          "height": 1000
        },
        "id": "Jtf5g08QR48h",
        "outputId": "5d2af302-f30a-4a2b-847a-ecf3aba754a4"
      },
      "execution_count": 23,
      "outputs": [
        {
          "output_type": "execute_result",
          "data": {
            "text/plain": [
              "                               Accuracy  Balanced Accuracy ROC AUC  F1 Score  \\\n",
              "Model                                                                          \n",
              "SGDClassifier                      0.92               0.64    None      0.92   \n",
              "PassiveAggressiveClassifier        0.81               0.62    None      0.84   \n",
              "LinearDiscriminantAnalysis         0.93               0.62    None      0.92   \n",
              "LinearSVC                          0.76               0.59    None      0.80   \n",
              "LogisticRegression                 0.92               0.58    None      0.90   \n",
              "Perceptron                         0.73               0.57    None      0.78   \n",
              "RidgeClassifierCV                  0.91               0.57    None      0.89   \n",
              "RidgeClassifier                    0.91               0.57    None      0.89   \n",
              "BaggingClassifier                  0.88               0.52    None      0.85   \n",
              "KNeighborsClassifier               0.85               0.50    None      0.83   \n",
              "XGBClassifier                      0.91               0.50    None      0.86   \n",
              "RandomForestClassifier             0.91               0.50    None      0.86   \n",
              "LGBMClassifier                     0.91               0.50    None      0.86   \n",
              "DecisionTreeClassifier             0.84               0.50    None      0.84   \n",
              "CalibratedClassifierCV             0.89               0.49    None      0.85   \n",
              "ExtraTreesClassifier               0.89               0.49    None      0.85   \n",
              "SVC                                0.88               0.48    None      0.84   \n",
              "GaussianNB                         0.66               0.47    None      0.68   \n",
              "BernoulliNB                        0.69               0.45    None      0.73   \n",
              "NearestCentroid                    0.65               0.43    None      0.69   \n",
              "ExtraTreeClassifier                0.65               0.36    None      0.65   \n",
              "AdaBoostClassifier                 0.54               0.30    None      0.46   \n",
              "QuadraticDiscriminantAnalysis      0.28               0.29    None      0.33   \n",
              "LabelSpreading                     0.46               0.25    None      0.29   \n",
              "LabelPropagation                   0.46               0.25    None      0.29   \n",
              "DummyClassifier                    0.45               0.25    None      0.28   \n",
              "\n",
              "                               matthews_corrcoef  Time Taken  \n",
              "Model                                                         \n",
              "SGDClassifier                               0.86        2.11  \n",
              "PassiveAggressiveClassifier                 0.73        5.07  \n",
              "LinearDiscriminantAnalysis                  0.88        2.55  \n",
              "LinearSVC                                   0.66       16.13  \n",
              "LogisticRegression                          0.86        7.15  \n",
              "Perceptron                                  0.62        1.19  \n",
              "RidgeClassifierCV                           0.84        1.08  \n",
              "RidgeClassifier                             0.84        1.04  \n",
              "BaggingClassifier                           0.79       15.76  \n",
              "KNeighborsClassifier                        0.75        0.67  \n",
              "XGBClassifier                               0.84      100.14  \n",
              "RandomForestClassifier                      0.84        3.17  \n",
              "LGBMClassifier                              0.84      195.84  \n",
              "DecisionTreeClassifier                      0.72        3.24  \n",
              "CalibratedClassifierCV                      0.81       21.82  \n",
              "ExtraTreesClassifier                        0.82        0.97  \n",
              "SVC                                         0.79        2.04  \n",
              "GaussianNB                                  0.45        0.61  \n",
              "BernoulliNB                                 0.51        0.69  \n",
              "NearestCentroid                             0.44        0.69  \n",
              "ExtraTreeClassifier                         0.40        0.48  \n",
              "AdaBoostClassifier                          0.25       30.30  \n",
              "QuadraticDiscriminantAnalysis               0.09        2.38  \n",
              "LabelSpreading                              0.00        1.08  \n",
              "LabelPropagation                            0.00        1.28  \n",
              "DummyClassifier                             0.00        0.47  "
            ],
            "text/html": [
              "\n",
              "  <div id=\"df-0585840d-6660-4d08-9c9c-46f101890b31\">\n",
              "    <div class=\"colab-df-container\">\n",
              "      <div>\n",
              "<style scoped>\n",
              "    .dataframe tbody tr th:only-of-type {\n",
              "        vertical-align: middle;\n",
              "    }\n",
              "\n",
              "    .dataframe tbody tr th {\n",
              "        vertical-align: top;\n",
              "    }\n",
              "\n",
              "    .dataframe thead th {\n",
              "        text-align: right;\n",
              "    }\n",
              "</style>\n",
              "<table border=\"1\" class=\"dataframe\">\n",
              "  <thead>\n",
              "    <tr style=\"text-align: right;\">\n",
              "      <th></th>\n",
              "      <th>Accuracy</th>\n",
              "      <th>Balanced Accuracy</th>\n",
              "      <th>ROC AUC</th>\n",
              "      <th>F1 Score</th>\n",
              "      <th>matthews_corrcoef</th>\n",
              "      <th>Time Taken</th>\n",
              "    </tr>\n",
              "    <tr>\n",
              "      <th>Model</th>\n",
              "      <th></th>\n",
              "      <th></th>\n",
              "      <th></th>\n",
              "      <th></th>\n",
              "      <th></th>\n",
              "      <th></th>\n",
              "    </tr>\n",
              "  </thead>\n",
              "  <tbody>\n",
              "    <tr>\n",
              "      <th>SGDClassifier</th>\n",
              "      <td>0.92</td>\n",
              "      <td>0.64</td>\n",
              "      <td>None</td>\n",
              "      <td>0.92</td>\n",
              "      <td>0.86</td>\n",
              "      <td>2.11</td>\n",
              "    </tr>\n",
              "    <tr>\n",
              "      <th>PassiveAggressiveClassifier</th>\n",
              "      <td>0.81</td>\n",
              "      <td>0.62</td>\n",
              "      <td>None</td>\n",
              "      <td>0.84</td>\n",
              "      <td>0.73</td>\n",
              "      <td>5.07</td>\n",
              "    </tr>\n",
              "    <tr>\n",
              "      <th>LinearDiscriminantAnalysis</th>\n",
              "      <td>0.93</td>\n",
              "      <td>0.62</td>\n",
              "      <td>None</td>\n",
              "      <td>0.92</td>\n",
              "      <td>0.88</td>\n",
              "      <td>2.55</td>\n",
              "    </tr>\n",
              "    <tr>\n",
              "      <th>LinearSVC</th>\n",
              "      <td>0.76</td>\n",
              "      <td>0.59</td>\n",
              "      <td>None</td>\n",
              "      <td>0.80</td>\n",
              "      <td>0.66</td>\n",
              "      <td>16.13</td>\n",
              "    </tr>\n",
              "    <tr>\n",
              "      <th>LogisticRegression</th>\n",
              "      <td>0.92</td>\n",
              "      <td>0.58</td>\n",
              "      <td>None</td>\n",
              "      <td>0.90</td>\n",
              "      <td>0.86</td>\n",
              "      <td>7.15</td>\n",
              "    </tr>\n",
              "    <tr>\n",
              "      <th>Perceptron</th>\n",
              "      <td>0.73</td>\n",
              "      <td>0.57</td>\n",
              "      <td>None</td>\n",
              "      <td>0.78</td>\n",
              "      <td>0.62</td>\n",
              "      <td>1.19</td>\n",
              "    </tr>\n",
              "    <tr>\n",
              "      <th>RidgeClassifierCV</th>\n",
              "      <td>0.91</td>\n",
              "      <td>0.57</td>\n",
              "      <td>None</td>\n",
              "      <td>0.89</td>\n",
              "      <td>0.84</td>\n",
              "      <td>1.08</td>\n",
              "    </tr>\n",
              "    <tr>\n",
              "      <th>RidgeClassifier</th>\n",
              "      <td>0.91</td>\n",
              "      <td>0.57</td>\n",
              "      <td>None</td>\n",
              "      <td>0.89</td>\n",
              "      <td>0.84</td>\n",
              "      <td>1.04</td>\n",
              "    </tr>\n",
              "    <tr>\n",
              "      <th>BaggingClassifier</th>\n",
              "      <td>0.88</td>\n",
              "      <td>0.52</td>\n",
              "      <td>None</td>\n",
              "      <td>0.85</td>\n",
              "      <td>0.79</td>\n",
              "      <td>15.76</td>\n",
              "    </tr>\n",
              "    <tr>\n",
              "      <th>KNeighborsClassifier</th>\n",
              "      <td>0.85</td>\n",
              "      <td>0.50</td>\n",
              "      <td>None</td>\n",
              "      <td>0.83</td>\n",
              "      <td>0.75</td>\n",
              "      <td>0.67</td>\n",
              "    </tr>\n",
              "    <tr>\n",
              "      <th>XGBClassifier</th>\n",
              "      <td>0.91</td>\n",
              "      <td>0.50</td>\n",
              "      <td>None</td>\n",
              "      <td>0.86</td>\n",
              "      <td>0.84</td>\n",
              "      <td>100.14</td>\n",
              "    </tr>\n",
              "    <tr>\n",
              "      <th>RandomForestClassifier</th>\n",
              "      <td>0.91</td>\n",
              "      <td>0.50</td>\n",
              "      <td>None</td>\n",
              "      <td>0.86</td>\n",
              "      <td>0.84</td>\n",
              "      <td>3.17</td>\n",
              "    </tr>\n",
              "    <tr>\n",
              "      <th>LGBMClassifier</th>\n",
              "      <td>0.91</td>\n",
              "      <td>0.50</td>\n",
              "      <td>None</td>\n",
              "      <td>0.86</td>\n",
              "      <td>0.84</td>\n",
              "      <td>195.84</td>\n",
              "    </tr>\n",
              "    <tr>\n",
              "      <th>DecisionTreeClassifier</th>\n",
              "      <td>0.84</td>\n",
              "      <td>0.50</td>\n",
              "      <td>None</td>\n",
              "      <td>0.84</td>\n",
              "      <td>0.72</td>\n",
              "      <td>3.24</td>\n",
              "    </tr>\n",
              "    <tr>\n",
              "      <th>CalibratedClassifierCV</th>\n",
              "      <td>0.89</td>\n",
              "      <td>0.49</td>\n",
              "      <td>None</td>\n",
              "      <td>0.85</td>\n",
              "      <td>0.81</td>\n",
              "      <td>21.82</td>\n",
              "    </tr>\n",
              "    <tr>\n",
              "      <th>ExtraTreesClassifier</th>\n",
              "      <td>0.89</td>\n",
              "      <td>0.49</td>\n",
              "      <td>None</td>\n",
              "      <td>0.85</td>\n",
              "      <td>0.82</td>\n",
              "      <td>0.97</td>\n",
              "    </tr>\n",
              "    <tr>\n",
              "      <th>SVC</th>\n",
              "      <td>0.88</td>\n",
              "      <td>0.48</td>\n",
              "      <td>None</td>\n",
              "      <td>0.84</td>\n",
              "      <td>0.79</td>\n",
              "      <td>2.04</td>\n",
              "    </tr>\n",
              "    <tr>\n",
              "      <th>GaussianNB</th>\n",
              "      <td>0.66</td>\n",
              "      <td>0.47</td>\n",
              "      <td>None</td>\n",
              "      <td>0.68</td>\n",
              "      <td>0.45</td>\n",
              "      <td>0.61</td>\n",
              "    </tr>\n",
              "    <tr>\n",
              "      <th>BernoulliNB</th>\n",
              "      <td>0.69</td>\n",
              "      <td>0.45</td>\n",
              "      <td>None</td>\n",
              "      <td>0.73</td>\n",
              "      <td>0.51</td>\n",
              "      <td>0.69</td>\n",
              "    </tr>\n",
              "    <tr>\n",
              "      <th>NearestCentroid</th>\n",
              "      <td>0.65</td>\n",
              "      <td>0.43</td>\n",
              "      <td>None</td>\n",
              "      <td>0.69</td>\n",
              "      <td>0.44</td>\n",
              "      <td>0.69</td>\n",
              "    </tr>\n",
              "    <tr>\n",
              "      <th>ExtraTreeClassifier</th>\n",
              "      <td>0.65</td>\n",
              "      <td>0.36</td>\n",
              "      <td>None</td>\n",
              "      <td>0.65</td>\n",
              "      <td>0.40</td>\n",
              "      <td>0.48</td>\n",
              "    </tr>\n",
              "    <tr>\n",
              "      <th>AdaBoostClassifier</th>\n",
              "      <td>0.54</td>\n",
              "      <td>0.30</td>\n",
              "      <td>None</td>\n",
              "      <td>0.46</td>\n",
              "      <td>0.25</td>\n",
              "      <td>30.30</td>\n",
              "    </tr>\n",
              "    <tr>\n",
              "      <th>QuadraticDiscriminantAnalysis</th>\n",
              "      <td>0.28</td>\n",
              "      <td>0.29</td>\n",
              "      <td>None</td>\n",
              "      <td>0.33</td>\n",
              "      <td>0.09</td>\n",
              "      <td>2.38</td>\n",
              "    </tr>\n",
              "    <tr>\n",
              "      <th>LabelSpreading</th>\n",
              "      <td>0.46</td>\n",
              "      <td>0.25</td>\n",
              "      <td>None</td>\n",
              "      <td>0.29</td>\n",
              "      <td>0.00</td>\n",
              "      <td>1.08</td>\n",
              "    </tr>\n",
              "    <tr>\n",
              "      <th>LabelPropagation</th>\n",
              "      <td>0.46</td>\n",
              "      <td>0.25</td>\n",
              "      <td>None</td>\n",
              "      <td>0.29</td>\n",
              "      <td>0.00</td>\n",
              "      <td>1.28</td>\n",
              "    </tr>\n",
              "    <tr>\n",
              "      <th>DummyClassifier</th>\n",
              "      <td>0.45</td>\n",
              "      <td>0.25</td>\n",
              "      <td>None</td>\n",
              "      <td>0.28</td>\n",
              "      <td>0.00</td>\n",
              "      <td>0.47</td>\n",
              "    </tr>\n",
              "  </tbody>\n",
              "</table>\n",
              "</div>\n",
              "      <button class=\"colab-df-convert\" onclick=\"convertToInteractive('df-0585840d-6660-4d08-9c9c-46f101890b31')\"\n",
              "              title=\"Convert this dataframe to an interactive table.\"\n",
              "              style=\"display:none;\">\n",
              "        \n",
              "  <svg xmlns=\"http://www.w3.org/2000/svg\" height=\"24px\"viewBox=\"0 0 24 24\"\n",
              "       width=\"24px\">\n",
              "    <path d=\"M0 0h24v24H0V0z\" fill=\"none\"/>\n",
              "    <path d=\"M18.56 5.44l.94 2.06.94-2.06 2.06-.94-2.06-.94-.94-2.06-.94 2.06-2.06.94zm-11 1L8.5 8.5l.94-2.06 2.06-.94-2.06-.94L8.5 2.5l-.94 2.06-2.06.94zm10 10l.94 2.06.94-2.06 2.06-.94-2.06-.94-.94-2.06-.94 2.06-2.06.94z\"/><path d=\"M17.41 7.96l-1.37-1.37c-.4-.4-.92-.59-1.43-.59-.52 0-1.04.2-1.43.59L10.3 9.45l-7.72 7.72c-.78.78-.78 2.05 0 2.83L4 21.41c.39.39.9.59 1.41.59.51 0 1.02-.2 1.41-.59l7.78-7.78 2.81-2.81c.8-.78.8-2.07 0-2.86zM5.41 20L4 18.59l7.72-7.72 1.47 1.35L5.41 20z\"/>\n",
              "  </svg>\n",
              "      </button>\n",
              "      \n",
              "  <style>\n",
              "    .colab-df-container {\n",
              "      display:flex;\n",
              "      flex-wrap:wrap;\n",
              "      gap: 12px;\n",
              "    }\n",
              "\n",
              "    .colab-df-convert {\n",
              "      background-color: #E8F0FE;\n",
              "      border: none;\n",
              "      border-radius: 50%;\n",
              "      cursor: pointer;\n",
              "      display: none;\n",
              "      fill: #1967D2;\n",
              "      height: 32px;\n",
              "      padding: 0 0 0 0;\n",
              "      width: 32px;\n",
              "    }\n",
              "\n",
              "    .colab-df-convert:hover {\n",
              "      background-color: #E2EBFA;\n",
              "      box-shadow: 0px 1px 2px rgba(60, 64, 67, 0.3), 0px 1px 3px 1px rgba(60, 64, 67, 0.15);\n",
              "      fill: #174EA6;\n",
              "    }\n",
              "\n",
              "    [theme=dark] .colab-df-convert {\n",
              "      background-color: #3B4455;\n",
              "      fill: #D2E3FC;\n",
              "    }\n",
              "\n",
              "    [theme=dark] .colab-df-convert:hover {\n",
              "      background-color: #434B5C;\n",
              "      box-shadow: 0px 1px 3px 1px rgba(0, 0, 0, 0.15);\n",
              "      filter: drop-shadow(0px 1px 2px rgba(0, 0, 0, 0.3));\n",
              "      fill: #FFFFFF;\n",
              "    }\n",
              "  </style>\n",
              "\n",
              "      <script>\n",
              "        const buttonEl =\n",
              "          document.querySelector('#df-0585840d-6660-4d08-9c9c-46f101890b31 button.colab-df-convert');\n",
              "        buttonEl.style.display =\n",
              "          google.colab.kernel.accessAllowed ? 'block' : 'none';\n",
              "\n",
              "        async function convertToInteractive(key) {\n",
              "          const element = document.querySelector('#df-0585840d-6660-4d08-9c9c-46f101890b31');\n",
              "          const dataTable =\n",
              "            await google.colab.kernel.invokeFunction('convertToInteractive',\n",
              "                                                     [key], {});\n",
              "          if (!dataTable) return;\n",
              "\n",
              "          const docLinkHtml = 'Like what you see? Visit the ' +\n",
              "            '<a target=\"_blank\" href=https://colab.research.google.com/notebooks/data_table.ipynb>data table notebook</a>'\n",
              "            + ' to learn more about interactive tables.';\n",
              "          element.innerHTML = '';\n",
              "          dataTable['output_type'] = 'display_data';\n",
              "          await google.colab.output.renderOutput(dataTable, element);\n",
              "          const docLink = document.createElement('div');\n",
              "          docLink.innerHTML = docLinkHtml;\n",
              "          element.appendChild(docLink);\n",
              "        }\n",
              "      </script>\n",
              "    </div>\n",
              "  </div>\n",
              "  "
            ]
          },
          "metadata": {},
          "execution_count": 23
        }
      ]
    },
    {
      "cell_type": "code",
      "execution_count": 24,
      "metadata": {
        "colab": {
          "base_uri": "https://localhost:8080/",
          "height": 633
        },
        "id": "4ONmPLKdcKP4",
        "outputId": "7900cf07-d748-4126-eef0-83df6de6e611"
      },
      "outputs": [
        {
          "output_type": "execute_result",
          "data": {
            "text/plain": [
              "[(0.0, 1.0)]"
            ]
          },
          "metadata": {},
          "execution_count": 24
        },
        {
          "output_type": "display_data",
          "data": {
            "text/plain": [
              "<Figure size 360x720 with 1 Axes>"
            ],
            "image/png": "[encoded data removed]"
          },
          "metadata": {
            "needs_background": "light"
          }
        }
      ],
      "source": [
        "# Plot of Accuracy\n",
        "plt.figure(figsize=(5, 10))\n",
        "sns.set_theme(style=\"whitegrid\")\n",
        "ax = sns.barplot(y=models.index, x=\"Accuracy\", \n",
        "                 data=models)\n",
        "ax.set(xlim=(0, 1))"
      ]
    },
    {
      "cell_type": "code",
      "execution_count": 25,
      "metadata": {
        "colab": {
          "base_uri": "https://localhost:8080/",
          "height": 633
        },
        "id": "Bse08KSUW1FJ",
        "outputId": "fcdcd5d7-5fd0-43e2-d178-d92b87a283eb"
      },
      "outputs": [
        {
          "output_type": "execute_result",
          "data": {
            "text/plain": [
              "[(0.0, 1.0)]"
            ]
          },
          "metadata": {},
          "execution_count": 25
        },
        {
          "output_type": "display_data",
          "data": {
            "text/plain": [
              "<Figure size 360x720 with 1 Axes>"
            ],
            "image/png": "[encoded data removed]"
          },
          "metadata": {}
        }
      ],
      "source": [
        "# Plot of MCC\n",
        "plt.figure(figsize=(5, 10))\n",
        "sns.set_theme(style=\"whitegrid\")\n",
        "ax = sns.barplot(y=models.index, \n",
        "                 x=\"matthews_corrcoef\", data=models)\n",
        "ax.set(xlim=(0, 1))"
      ]
    },
    {
      "cell_type": "markdown",
      "metadata": {
        "id": "CvITCk5anJ96"
      },
      "source": [
        "---\n",
        "We did not fine-tuned the hyperparameters of the best model because the performance metrics with the default parameters were very high, so hyperparameter tuning was not necessary."
      ]
    },
    {
      "cell_type": "markdown",
      "metadata": {
        "id": "ZK0-qLC2EfYh"
      },
      "source": [
        "### **Evaluation of the best model on the test dataset**\n",
        "According to the summary tables presented above, there were some models with a perfect prediction capcity considering all of the performance metrics (values of 1 in the previous table). However, these methods are based on regression classifiers, which cannot show the feature importance of the model. So, we used the **RandomForestClassifier** that also have high performance metrics values and keep track of the feature importance (in this case, the gene expression values).\n",
        "\n",
        "Thus, we trained this model again on the entire training dataset (without creating the validation partition) and evaluated it on the **test dataset**. "
      ]
    },
    {
      "cell_type": "code",
      "source": [
        "clf.models[\"RandomForestClassifier\"]"
      ],
      "metadata": {
        "id": "68DfL13_f6kr"
      },
      "execution_count": null,
      "outputs": []
    },
    {
      "cell_type": "code",
      "source": [
        "# Implementation of the best models\n",
        "best_model1 = make_pipeline(StandardScaler(), RandomForestClassifier(random_state=42))\n",
        "best_model1.fit(X_train, y_train)\n",
        "\n",
        "best_model2 = make_pipeline(StandardScaler(), LGBMClassifier(random_state=42))\n",
        "best_model2.fit(X_train, y_train)\n",
        "\n",
        "best_model3 = make_pipeline(StandardScaler(), XGBClassifier(random_state=42))\n",
        "best_model3.fit(X_train, y_train)"
      ],
      "metadata": {
        "colab": {
          "base_uri": "https://localhost:8080/"
        },
        "id": "uPklLxPX20AR",
        "outputId": "c2c05eec-48d2-4bba-f36e-97d3fd3a69ba"
      },
      "execution_count": 51,
      "outputs": [
        {
          "output_type": "execute_result",
          "data": {
            "text/plain": [
              "Pipeline(steps=[('standardscaler', StandardScaler()),\n",
              "                ('xgbclassifier',\n",
              "                 XGBClassifier(objective='multi:softprob', random_state=42))])"
            ]
          },
          "metadata": {},
          "execution_count": 51
        }
      ]
    },
    {
      "cell_type": "code",
      "execution_count": 56,
      "metadata": {
        "id": "yaRuZ3PmPAvO"
      },
      "outputs": [],
      "source": [
        "# Predicting values with the best model on test and external datasets\n",
        "y_test_pred = best_model3.predict(X_test)\n",
        "#y_ext_pred = best_model2.predict(X_ext)"
      ]
    },
    {
      "cell_type": "code",
      "execution_count": 53,
      "metadata": {
        "id": "oU7rVjQfKEr3"
      },
      "outputs": [],
      "source": [
        "# Dataset to store performance metrics\n",
        "results_bestMLmodel = pd.DataFrame()"
      ]
    },
    {
      "cell_type": "code",
      "source": [
        "# Calculate performance metrics\n",
        "#roc_auc_ext = roc_auc_score(y_ext, y_ext_pred)\n",
        "roc_auc_test = roc_auc_score(y_test, best_model3.predict_proba(X_test), multi_class = 'ovr')\n",
        "\n",
        "#acc_ext = accuracy_score(y_ext, y_ext_pred)\n",
        "acc_test = accuracy_score(y_test, y_test_pred)\n",
        "\n",
        "#prec_ext = precision_score(y_ext, y_ext_pred)\n",
        "prec_test = precision_score(y_test, y_test_pred, average = 'weighted')\n",
        "\n",
        "#recall_ext = recall_score(y_ext, y_ext_pred)\n",
        "recall_test = recall_score(y_test, y_test_pred, average = 'weighted')\n",
        "\n",
        "#f1score_ext = f1_score(y_ext, y_ext_pred)\n",
        "f1score_test = f1_score(y_test, y_test_pred, average = 'weighted')\n",
        "\n",
        "#mcc_ext = matthews_corrcoef(y_ext, y_ext_pred)\n",
        "mcc_test = matthews_corrcoef(y_test, y_test_pred)\n",
        "\n",
        "\n",
        "# Add columns to the dataset\n",
        "results_bestMLmodel[\"Performance_metric\"] = ['ROC_AUC','Accuracy', 'Precision', \n",
        "                                             'Recall', 'F1score', 'MCC']\n",
        "\n",
        "results_bestMLmodel[\"Test_dataset\"] = [roc_auc_test, acc_test, prec_test, \n",
        "                                       recall_test, f1score_test, mcc_test]\n",
        "\n",
        "#results_bestMLmodel[\"External_dataset\"] = [roc_auc_ext, acc_ext, prec_ext, \n",
        " #                                      recall_ext, f1score_ext, mcc_ext]"
      ],
      "metadata": {
        "id": "KqBvLzUuX7Bb"
      },
      "execution_count": 57,
      "outputs": []
    },
    {
      "cell_type": "code",
      "execution_count": 58,
      "metadata": {
        "colab": {
          "base_uri": "https://localhost:8080/",
          "height": 272
        },
        "id": "fTfmVcyOOzr3",
        "outputId": "8765894f-04ac-4fe7-aa8e-5359391d45d6"
      },
      "outputs": [
        {
          "output_type": "execute_result",
          "data": {
            "text/plain": [
              "  Performance_metric  Test_dataset\n",
              "0            ROC_AUC          0.95\n",
              "1           Accuracy          0.91\n",
              "2          Precision          0.82\n",
              "3             Recall          0.91\n",
              "4            F1score          0.86\n",
              "5                MCC          0.84"
            ],
            "text/html": [
              "\n",
              "  <div id=\"df-92842bb8-3c9f-48b6-b2e1-ceeff6e804c9\">\n",
              "    <div class=\"colab-df-container\">\n",
              "      <div>\n",
              "<style scoped>\n",
              "    .dataframe tbody tr th:only-of-type {\n",
              "        vertical-align: middle;\n",
              "    }\n",
              "\n",
              "    .dataframe tbody tr th {\n",
              "        vertical-align: top;\n",
              "    }\n",
              "\n",
              "    .dataframe thead th {\n",
              "        text-align: right;\n",
              "    }\n",
              "</style>\n",
              "<table border=\"1\" class=\"dataframe\">\n",
              "  <thead>\n",
              "    <tr style=\"text-align: right;\">\n",
              "      <th></th>\n",
              "      <th>Performance_metric</th>\n",
              "      <th>Test_dataset</th>\n",
              "    </tr>\n",
              "  </thead>\n",
              "  <tbody>\n",
              "    <tr>\n",
              "      <th>0</th>\n",
              "      <td>ROC_AUC</td>\n",
              "      <td>0.95</td>\n",
              "    </tr>\n",
              "    <tr>\n",
              "      <th>1</th>\n",
              "      <td>Accuracy</td>\n",
              "      <td>0.91</td>\n",
              "    </tr>\n",
              "    <tr>\n",
              "      <th>2</th>\n",
              "      <td>Precision</td>\n",
              "      <td>0.82</td>\n",
              "    </tr>\n",
              "    <tr>\n",
              "      <th>3</th>\n",
              "      <td>Recall</td>\n",
              "      <td>0.91</td>\n",
              "    </tr>\n",
              "    <tr>\n",
              "      <th>4</th>\n",
              "      <td>F1score</td>\n",
              "      <td>0.86</td>\n",
              "    </tr>\n",
              "    <tr>\n",
              "      <th>5</th>\n",
              "      <td>MCC</td>\n",
              "      <td>0.84</td>\n",
              "    </tr>\n",
              "  </tbody>\n",
              "</table>\n",
              "</div>\n",
              "      <button class=\"colab-df-convert\" onclick=\"convertToInteractive('df-92842bb8-3c9f-48b6-b2e1-ceeff6e804c9')\"\n",
              "              title=\"Convert this dataframe to an interactive table.\"\n",
              "              style=\"display:none;\">\n",
              "        \n",
              "  <svg xmlns=\"http://www.w3.org/2000/svg\" height=\"24px\"viewBox=\"0 0 24 24\"\n",
              "       width=\"24px\">\n",
              "    <path d=\"M0 0h24v24H0V0z\" fill=\"none\"/>\n",
              "    <path d=\"M18.56 5.44l.94 2.06.94-2.06 2.06-.94-2.06-.94-.94-2.06-.94 2.06-2.06.94zm-11 1L8.5 8.5l.94-2.06 2.06-.94-2.06-.94L8.5 2.5l-.94 2.06-2.06.94zm10 10l.94 2.06.94-2.06 2.06-.94-2.06-.94-.94-2.06-.94 2.06-2.06.94z\"/><path d=\"M17.41 7.96l-1.37-1.37c-.4-.4-.92-.59-1.43-.59-.52 0-1.04.2-1.43.59L10.3 9.45l-7.72 7.72c-.78.78-.78 2.05 0 2.83L4 21.41c.39.39.9.59 1.41.59.51 0 1.02-.2 1.41-.59l7.78-7.78 2.81-2.81c.8-.78.8-2.07 0-2.86zM5.41 20L4 18.59l7.72-7.72 1.47 1.35L5.41 20z\"/>\n",
              "  </svg>\n",
              "      </button>\n",
              "      \n",
              "  <style>\n",
              "    .colab-df-container {\n",
              "      display:flex;\n",
              "      flex-wrap:wrap;\n",
              "      gap: 12px;\n",
              "    }\n",
              "\n",
              "    .colab-df-convert {\n",
              "      background-color: #E8F0FE;\n",
              "      border: none;\n",
              "      border-radius: 50%;\n",
              "      cursor: pointer;\n",
              "      display: none;\n",
              "      fill: #1967D2;\n",
              "      height: 32px;\n",
              "      padding: 0 0 0 0;\n",
              "      width: 32px;\n",
              "    }\n",
              "\n",
              "    .colab-df-convert:hover {\n",
              "      background-color: #E2EBFA;\n",
              "      box-shadow: 0px 1px 2px rgba(60, 64, 67, 0.3), 0px 1px 3px 1px rgba(60, 64, 67, 0.15);\n",
              "      fill: #174EA6;\n",
              "    }\n",
              "\n",
              "    [theme=dark] .colab-df-convert {\n",
              "      background-color: #3B4455;\n",
              "      fill: #D2E3FC;\n",
              "    }\n",
              "\n",
              "    [theme=dark] .colab-df-convert:hover {\n",
              "      background-color: #434B5C;\n",
              "      box-shadow: 0px 1px 3px 1px rgba(0, 0, 0, 0.15);\n",
              "      filter: drop-shadow(0px 1px 2px rgba(0, 0, 0, 0.3));\n",
              "      fill: #FFFFFF;\n",
              "    }\n",
              "  </style>\n",
              "\n",
              "      <script>\n",
              "        const buttonEl =\n",
              "          document.querySelector('#df-92842bb8-3c9f-48b6-b2e1-ceeff6e804c9 button.colab-df-convert');\n",
              "        buttonEl.style.display =\n",
              "          google.colab.kernel.accessAllowed ? 'block' : 'none';\n",
              "\n",
              "        async function convertToInteractive(key) {\n",
              "          const element = document.querySelector('#df-92842bb8-3c9f-48b6-b2e1-ceeff6e804c9');\n",
              "          const dataTable =\n",
              "            await google.colab.kernel.invokeFunction('convertToInteractive',\n",
              "                                                     [key], {});\n",
              "          if (!dataTable) return;\n",
              "\n",
              "          const docLinkHtml = 'Like what you see? Visit the ' +\n",
              "            '<a target=\"_blank\" href=https://colab.research.google.com/notebooks/data_table.ipynb>data table notebook</a>'\n",
              "            + ' to learn more about interactive tables.';\n",
              "          element.innerHTML = '';\n",
              "          dataTable['output_type'] = 'display_data';\n",
              "          await google.colab.output.renderOutput(dataTable, element);\n",
              "          const docLink = document.createElement('div');\n",
              "          docLink.innerHTML = docLinkHtml;\n",
              "          element.appendChild(docLink);\n",
              "        }\n",
              "      </script>\n",
              "    </div>\n",
              "  </div>\n",
              "  "
            ]
          },
          "metadata": {},
          "execution_count": 58
        }
      ],
      "source": [
        "# Show the evaluation results of the best model\n",
        "results_bestMLmodel"
      ]
    },
    {
      "cell_type": "code",
      "execution_count": null,
      "metadata": {
        "id": "WjxlipmUQ1N5"
      },
      "outputs": [],
      "source": [
        "results_bestMLmodel.to_csv(\"evaluation_bestMLclassifier.csv\")"
      ]
    },
    {
      "cell_type": "code",
      "source": [
        "best_model1[1].feature_importances_"
      ],
      "metadata": {
        "colab": {
          "base_uri": "https://localhost:8080/"
        },
        "id": "KWkcGHq162Gz",
        "outputId": "33d2f02d-e0b9-4dfe-ae55-2b44da29b795"
      },
      "execution_count": 59,
      "outputs": [
        {
          "output_type": "execute_result",
          "data": {
            "text/plain": [
              "array([0.        , 0.00304143, 0.        , ..., 0.        , 0.        ,\n",
              "       0.        ])"
            ]
          },
          "metadata": {},
          "execution_count": 59
        }
      ]
    },
    {
      "cell_type": "markdown",
      "metadata": {
        "id": "y-EaFk3SnLvc"
      },
      "source": [
        "### **Feature importance of the best model**"
      ]
    },
    {
      "cell_type": "code",
      "execution_count": 60,
      "metadata": {
        "id": "ZFdeHIRXuqo_"
      },
      "outputs": [],
      "source": [
        "# Retrieve feature importance from the best models\n",
        "importance_bestmodel1 = pd.Series(best_model1[1].feature_importances_, name = 'Gini')\n",
        "importance_bestmodel2 = pd.Series(best_model2[1].feature_importances_, name = 'Importance (split)')\n",
        "importance_bestmodel3 = pd.Series(best_model3[1].feature_importances_, name = 'Importance (weight)')\n",
        "\n",
        "# Retrieve feature names\n",
        "feature_names = pd.Series(final_df_NF_alldisease.columns, name = 'Feature')"
      ]
    },
    {
      "cell_type": "code",
      "execution_count": 61,
      "metadata": {
        "id": "Cq4r6KsC_tb5"
      },
      "outputs": [],
      "source": [
        "# Combine feature names and Gini values into a Dataframe\n",
        "feat_import_bestmodel1 = pd.concat([feature_names, importance_bestmodel1], axis=1, names=['Feature', 'Gini'])\n",
        "feat_import_bestmodel2 = pd.concat([feature_names, importance_bestmodel2], axis=1, names=['Feature', 'Importance (split)'])\n",
        "feat_import_bestmodel3 = pd.concat([feature_names, importance_bestmodel3], axis=1, names=['Feature', 'Importance (weight)'])\n",
        "\n",
        "# Sort the dataframe by Gini in descending order\n",
        "featimp_bestmodel1_sort = feat_import_bestmodel1.sort_values('Gini', ascending=False)\n",
        "featimp_bestmodel2_sort = feat_import_bestmodel2.sort_values('Importance (split)', ascending=False)\n",
        "featimp_bestmodel3_sort = feat_import_bestmodel3.sort_values('Importance (weight)', ascending=False)"
      ]
    },
    {
      "cell_type": "code",
      "source": [
        "# Export sorted feature importance datasets\n",
        "featimp_bestmodel1_sort.to_csv(\"Important_genes_DCM_RandomForest_sorted.csv\")\n",
        "featimp_bestmodel2_sort.to_csv(\"Important_genes_DCM_LGBM_sorted.csv\")\n",
        "featimp_bestmodel3_sort.to_csv(\"Important_genes_DCM_XGBoost_sorted.csv\")"
      ],
      "metadata": {
        "id": "mOwz9iXF-TZB"
      },
      "execution_count": 62,
      "outputs": []
    },
    {
      "cell_type": "code",
      "source": [
        "# Plot of feature importance of the 3 algorithms\n",
        "#plt.figure(figsize=(5, 10))\n",
        "sns.set_theme(style=\"whitegrid\")\n",
        "fig, (ax1, ax2, ax3) = plt.subplots(1,3, figsize=(33, 15))\n",
        "\n",
        "sns.barplot(ax = ax1, x = 'Gini', y = 'Feature', data = featimp_bestmodel1_sort.iloc[0:19])\n",
        "ax1.title.set_text('RandomForest')\n",
        "sns.barplot(ax = ax2, x = 'Importance (split)', y = 'Feature', data = featimp_bestmodel2_sort.iloc[0:19])\n",
        "ax2.title.set_text('LGBMClassifier')\n",
        "sns.barplot(ax = ax3, x = 'Importance (weight)', y = 'Feature', data = featimp_bestmodel3_sort.iloc[0:19])\n",
        "ax3.title.set_text('XGBClassifier')"
      ],
      "metadata": {
        "colab": {
          "base_uri": "https://localhost:8080/",
          "height": 899
        },
        "id": "PHKPTLeIgQl3",
        "outputId": "d03a2b69-a7f4-4874-eea3-50b5e103c8b6"
      },
      "execution_count": 63,
      "outputs": [
        {
          "output_type": "display_data",
          "data": {
            "text/plain": [
              "<Figure size 2376x1080 with 3 Axes>"
            ],
            "image/png": "[encoded data removed]"
          },
          "metadata": {}
        }
      ]
    },
    {
      "cell_type": "markdown",
      "source": [
        "The feature importance results show that most of the genes have low Gini impurity values, which means that all elements belong to a certain class and there are not highly important genes that helps to the classification task."
      ],
      "metadata": {
        "id": "SiQd88ltDLcf"
      }
    },
    {
      "cell_type": "code",
      "source": [
        "# Get the top 50 most important genes for each method\n",
        "imp_genes_RF = featimp_bestmodel1_sort.iloc[0:50]\n",
        "imp_genes_LGBM = featimp_bestmodel2_sort.iloc[0:50]\n",
        "imp_genes_XGB = featimp_bestmodel3_sort.iloc[0:50]"
      ],
      "metadata": {
        "id": "m0DeCke81Ojy"
      },
      "execution_count": null,
      "outputs": []
    },
    {
      "cell_type": "code",
      "source": [
        "# Obtain the top 50 most important genes that are present in at least two methods\n",
        "consensus_genes1 = imp_genes_RF.merge(imp_genes_LGBM,on='Feature')\n",
        "consensus_genes2 = imp_genes_RF.merge(imp_genes_XGB,on='Feature')\n",
        "consensus_genes3 = imp_genes_XGB.merge(imp_genes_LGBM,on='Feature')"
      ],
      "metadata": {
        "id": "gzB_KZDD1QDC"
      },
      "execution_count": null,
      "outputs": []
    },
    {
      "cell_type": "code",
      "source": [
        "# Concatenate the results\n",
        "df_final = pd.concat([consensus_genes1, consensus_genes2, consensus_genes3], axis=0, ignore_index=True)"
      ],
      "metadata": {
        "id": "c6VqBBO71QMB"
      },
      "execution_count": null,
      "outputs": []
    },
    {
      "cell_type": "code",
      "source": [
        "df_final"
      ],
      "metadata": {
        "id": "R0qiDNIA-UK4"
      },
      "execution_count": null,
      "outputs": []
    },
    {
      "cell_type": "code",
      "source": [
        "# Export consensus genes\n",
        "df_final.to_csv(\"Consensus3methods_50important_genes_DCM.csv\")"
      ],
      "metadata": {
        "id": "SZwj60gs3hF1"
      },
      "execution_count": null,
      "outputs": []
    },
    {
      "cell_type": "markdown",
      "metadata": {
        "id": "fIshhKeCVdxz"
      },
      "source": [
        "### **Save the best model into a file**"
      ]
    },
    {
      "cell_type": "code",
      "execution_count": null,
      "metadata": {
        "id": "B9hQ5sd0Vh8g"
      },
      "outputs": [],
      "source": [
        "# Define the output file's name\n",
        "output_file = f'RandomForestClassifier_NF_DCM'\n",
        "output_file"
      ]
    },
    {
      "cell_type": "code",
      "execution_count": null,
      "metadata": {
        "id": "7-6gKurIVpWI"
      },
      "outputs": [],
      "source": [
        "# Export the binary file of the best model\n",
        "#with open(output_file, \"wb\") as f_out:\n",
        " #   pickle.dump(best_model[1], f_out)"
      ]
    },
    {
      "cell_type": "markdown",
      "metadata": {
        "id": "TuPnx5mWeizm"
      },
      "source": [
        "---"
      ]
    }
  ],
  "metadata": {
    "accelerator": "GPU",
    "colab": {
      "provenance": []
    },
    "kernelspec": {
      "display_name": "Python 3",
      "name": "python3"
    },
    "language_info": {
      "codemirror_mode": {
        "name": "ipython",
        "version": 3
      },
      "file_extension": ".py",
      "mimetype": "text/x-python",
      "name": "python",
      "nbconvert_exporter": "python",
      "pygments_lexer": "ipython3",
      "version": "3.8.11"
    }
  },
  "nbformat": 4,
  "nbformat_minor": 0
}